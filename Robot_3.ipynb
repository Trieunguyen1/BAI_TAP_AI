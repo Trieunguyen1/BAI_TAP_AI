{
  "nbformat": 4,
  "nbformat_minor": 0,
  "metadata": {
    "colab": {
      "name": "Robot_3.ipynb",
      "provenance": [],
      "authorship_tag": "ABX9TyOAeDToN9zF8ZkQVKvB+CFu",
      "include_colab_link": true
    },
    "kernelspec": {
      "name": "python3",
      "display_name": "Python 3"
    },
    "language_info": {
      "name": "python"
    }
  },
  "cells": [
    {
      "cell_type": "markdown",
      "metadata": {
        "id": "view-in-github",
        "colab_type": "text"
      },
      "source": [
        "<a href=\"https://colab.research.google.com/github/Trieunguyen1/BAI_TAP_AI/blob/main/Robot_3.ipynb\" target=\"_parent\"><img src=\"https://colab.research.google.com/assets/colab-badge.svg\" alt=\"Open In Colab\"/></a>"
      ]
    },
    {
      "cell_type": "code",
      "execution_count": 1,
      "metadata": {
        "id": "tm4EGBXmhegQ"
      },
      "outputs": [],
      "source": [
        "import keras\n",
        "import numpy as np\n",
        "import matplotlib.pyplot as plt\n",
        "from keras.layers import Dense, Activation, Dropout, BatchNormalization, LSTM\n",
        "from keras.models import Sequential\n",
        "from tensorflow.keras.utils import to_categorical\n",
        "from tensorflow.keras.optimizers import RMSprop\n",
        "from skimage import color\n",
        "from keras.callbacks import EarlyStopping"
      ]
    },
    {
      "cell_type": "code",
      "source": [
        "\n",
        "import pandas as pd \n",
        "import seaborn as sns \n",
        "from sklearn.model_selection import train_test_split\n",
        "from keras import callbacks\n",
        "from sklearn.metrics import precision_score, recall_score, confusion_matrix, classification_report, accuracy_score, f1_score"
      ],
      "metadata": {
        "id": "jt-UhFW6hiXY"
      },
      "execution_count": 2,
      "outputs": []
    },
    {
      "cell_type": "code",
      "source": [
        "import csv\n",
        "import math as m\n",
        "l1 = 50\n",
        "l2 = 40\n",
        "l3 = 20\n",
        "with open('Robot3b.csv','w') as file:\n",
        "  writer = csv.writer(file)\n",
        "  writer.writerow(['tt1','tt2','tt3','Px','Py','T'])\n",
        "\n",
        "  for tt1 in range(-150,151,1):\n",
        "    for tt2 in range(-120,121,1):\n",
        "      for tt3 in range(-90,91,1): \n",
        "        Px = l1*m.cos(tt1) + l2*m.cos(tt1+tt2)+ l3*m.cos(tt1+tt2+tt3)\n",
        "        Py = l1*m.sin(tt1) + l2*m.sin(tt1+tt2)+ l3*m.sin(tt1+tt2+tt3)\n",
        "        T = tt1+tt2+tt3\n",
        "        writer.writerow([tt1,tt2,tt3,Px,Py,T])\n",
        "\n",
        "\n",
        "data=pd.read_csv('Robot3b.csv')\n",
        "data\n",
        "\n",
        "x=data.drop(data.columns[:3],axis=1)\n",
        "y=data.drop(data.columns[3:],axis=1)\n",
        "\n",
        "x_train,x_test,y_train,y_test=train_test_split(x,y,test_size=0.25,random_state=10)"
      ],
      "metadata": {
        "id": "k2lzgAinhlf1"
      },
      "execution_count": 3,
      "outputs": []
    },
    {
      "cell_type": "code",
      "source": [
        "model=Sequential()\n",
        "model.add(Dense(512,activation='relu',input_shape=(3,)))\n",
        "model.add(Dense(500,activation='relu'))\n",
        "model.add(Dense(300,activation='relu'))\n",
        "model.add(Dense(100,activation='relu'))\n",
        "model.add(Dense(3,activation='softmax'))\n",
        "model.summary()\n",
        "\n",
        "model.compile(loss='categorical_crossentropy',optimizer=RMSprop(),metrics=['accuracy'])\n",
        "history = model.fit(x_train,y_train,batch_size = 128,epochs=5,verbose=1,callbacks=[EarlyStopping(monitor='val_loss',patience=20)],validation_data = (x_test, y_test))\n",
        "\n",
        "score = model.evaluate(x_test, y_test,verbose=0)\n",
        "print('Sai so kiem tra la:', score[0])\n",
        "print('Do chinh xac kiem tra la:', score[1])\n",
        "\n",
        "model.save('Robot3b.h5')\n",
        "from tensorflow.keras.models import load_model\n",
        "model = load_model('Robot3b.h5')\n",
        "\n",
        "plt.plot(history.history['accuracy'])\n",
        "plt.plot(history.history['val_accuracy'])\n",
        "plt.title('Model accuracy')\n",
        "plt.ylabel('accuracy')\n",
        "plt.xlabel('Epochs')\n",
        "plt.legend(['train','Validation'])\n",
        "plt.show()"
      ],
      "metadata": {
        "colab": {
          "base_uri": "https://localhost:8080/",
          "height": 869
        },
        "id": "nqGTWyXMhpLe",
        "outputId": "36b6710c-3a5d-47eb-aec3-7c5941949f26"
      },
      "execution_count": 4,
      "outputs": [
        {
          "output_type": "stream",
          "name": "stdout",
          "text": [
            "Model: \"sequential\"\n",
            "_________________________________________________________________\n",
            " Layer (type)                Output Shape              Param #   \n",
            "=================================================================\n",
            " dense (Dense)               (None, 512)               2048      \n",
            "                                                                 \n",
            " dense_1 (Dense)             (None, 500)               256500    \n",
            "                                                                 \n",
            " dense_2 (Dense)             (None, 300)               150300    \n",
            "                                                                 \n",
            " dense_3 (Dense)             (None, 100)               30100     \n",
            "                                                                 \n",
            " dense_4 (Dense)             (None, 3)                 303       \n",
            "                                                                 \n",
            "=================================================================\n",
            "Total params: 439,251\n",
            "Trainable params: 439,251\n",
            "Non-trainable params: 0\n",
            "_________________________________________________________________\n",
            "Epoch 1/5\n",
            "76934/76934 [==============================] - 1077s 14ms/step - loss: -9472822637894828032.0000 - accuracy: 0.4569 - val_loss: -56903451882802905088.0000 - val_accuracy: 0.4568\n",
            "Epoch 2/5\n",
            "76934/76934 [==============================] - 1096s 14ms/step - loss: nan - accuracy: 0.4379 - val_loss: nan - val_accuracy: 0.3831\n",
            "Epoch 3/5\n",
            "76934/76934 [==============================] - 1159s 15ms/step - loss: nan - accuracy: 0.3827 - val_loss: nan - val_accuracy: 0.3831\n",
            "Epoch 4/5\n",
            "76934/76934 [==============================] - 1116s 15ms/step - loss: nan - accuracy: 0.3827 - val_loss: nan - val_accuracy: 0.3831\n",
            "Epoch 5/5\n",
            "76934/76934 [==============================] - 1113s 14ms/step - loss: nan - accuracy: 0.3827 - val_loss: nan - val_accuracy: 0.3831\n",
            "Sai so kiem tra la: nan\n",
            "Do chinh xac kiem tra la: 0.3830547630786896\n"
          ]
        },
        {
          "output_type": "display_data",
          "data": {
            "text/plain": [
              "<Figure size 432x288 with 1 Axes>"
            ],
            "image/png": "[encoded data removed]"
          },
          "metadata": {
            "needs_background": "light"
          }
        }
      ]
    },
    {
      "cell_type": "code",
      "source": [
        "model.save('Robot_3.h5')"
      ],
      "metadata": {
        "id": "J8VD8BoU3fkG"
      },
      "execution_count": 5,
      "outputs": []
    }
  ]
}