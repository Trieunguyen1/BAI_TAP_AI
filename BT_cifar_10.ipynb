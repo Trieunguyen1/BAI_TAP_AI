{
  "nbformat": 4,
  "nbformat_minor": 0,
  "metadata": {
    "colab": {
      "name": "BT_cifar_10.ipynb",
      "provenance": [],
      "authorship_tag": "ABX9TyNvVuGKdr9yOL75vfNcz9mV",
      "include_colab_link": true
    },
    "kernelspec": {
      "name": "python3",
      "display_name": "Python 3"
    },
    "language_info": {
      "name": "python"
    }
  },
  "cells": [
    {
      "cell_type": "markdown",
      "metadata": {
        "id": "view-in-github",
        "colab_type": "text"
      },
      "source": [
        "<a href=\"https://colab.research.google.com/github/Trieunguyen1/BAI_TAP_AI/blob/main/BT_cifar_10.ipynb\" target=\"_parent\"><img src=\"https://colab.research.google.com/assets/colab-badge.svg\" alt=\"Open In Colab\"/></a>"
      ]
    },
    {
      "cell_type": "code",
      "execution_count": null,
      "metadata": {
        "id": "3Bqje0IjpbDI"
      },
      "outputs": [],
      "source": [
        "#import thư viện\n",
        "import numpy as np #thư viện xử lý ma trận\n",
        "from keras.utils import np_utils # thư viện xử lý chuyển class\n",
        "from keras.datasets import cifar10 # gọi tập dataset động vật, máy bay \n",
        "from keras.models import Sequential # hàm chạy mô hình\n",
        "from keras.layers import Dense, Dropout # tạo mạng nơ ron\n",
        "from tensorflow.keras.optimizers import RMSprop \n",
        "import matplotlib.pyplot as plt  # thư viện dùng để vẽ\n",
        "from keras.backend import dropout"
      ]
    },
    {
      "cell_type": "code",
      "source": [
        "# chia tập dữ liệu thành 2 bộ train và test\n",
        "(x_train, y_train),(x_test,y_test) = cifar10.load_data()"
      ],
      "metadata": {
        "colab": {
          "base_uri": "https://localhost:8080/"
        },
        "id": "hy6WYnrPpy9A",
        "outputId": "5a9b0447-ffc4-4442-f8b4-2b36a98272d7"
      },
      "execution_count": null,
      "outputs": [
        {
          "output_type": "stream",
          "name": "stdout",
          "text": [
            "Downloading data from https://www.cs.toronto.edu/~kriz/cifar-10-python.tar.gz\n",
            "170500096/170498071 [==============================] - 4s 0us/step\n",
            "170508288/170498071 [==============================] - 4s 0us/step\n"
          ]
        }
      ]
    },
    {
      "cell_type": "code",
      "source": [
        "# xem kích thược của tập dữ liệu\n",
        "print('Kích thước x_train: ', x_train.shape)\n",
        "print('Kích thước y_train: ', y_train.shape)\n",
        "print('Kích thước x_test: ', x_test.shape)\n",
        "print('Kích thước y_test: ', y_test.shape)"
      ],
      "metadata": {
        "colab": {
          "base_uri": "https://localhost:8080/"
        },
        "id": "tc51UJZ1p0cP",
        "outputId": "ec2c0c54-7bb5-41db-a1e9-90e0c313a4ac"
      },
      "execution_count": null,
      "outputs": [
        {
          "output_type": "stream",
          "name": "stdout",
          "text": [
            "Kích thước x_train:  (50000, 32, 32, 3)\n",
            "Kích thước y_train:  (50000, 1)\n",
            "Kích thước x_test:  (10000, 32, 32, 3)\n",
            "Kích thước y_test:  (10000, 1)\n"
          ]
        }
      ]
    },
    {
      "cell_type": "code",
      "source": [
        "#chuyển chiều của x từ 3 chiều về 2 chiều VÌ cifar10 ở đầu vào có 4 chiều để chuyển về\n",
        "# 2 chiều bằng cách 32*32*3=3072\n",
        "x_train = x_train.reshape(50000,3072)\n",
        "x_test = x_test.reshape(10000,3072)\n",
        "# ép kiểu\n",
        "x_train = x_train.astype('float32')\n",
        "x_test = x_test.astype('float32')\n",
        "#chuẩn hóa dữ liệu\n",
        "x_train /=255\n",
        "x_test /=255\n",
        "#chuyển y từ 1 class thành 10 class\n",
        "y_train = np_utils.to_categorical(y_train,10)\n",
        "y_test = np_utils.to_categorical(y_test,10)"
      ],
      "metadata": {
        "id": "huz01as2p3ae"
      },
      "execution_count": null,
      "outputs": []
    },
    {
      "cell_type": "code",
      "source": [
        "#tạo mạng nơ-ron\n",
        "model = Sequential()\n",
        "model.add(Dense(512,activation='relu',input_shape=(3072,)))\n",
        "model.add(Dropout(0.2))\n",
        "model.add(Dense(512,activation='relu'))\n",
        "model.add(Dropout(0.2))\n",
        "model.add(Dense(10,activation='softmax'))\n",
        "\n",
        "model.summary()"
      ],
      "metadata": {
        "colab": {
          "base_uri": "https://localhost:8080/"
        },
        "id": "d0H4VSTCp5w1",
        "outputId": "43cdc687-7307-47d5-b0a0-9d563073ec7b"
      },
      "execution_count": null,
      "outputs": [
        {
          "output_type": "stream",
          "name": "stdout",
          "text": [
            "Model: \"sequential\"\n",
            "_________________________________________________________________\n",
            " Layer (type)                Output Shape              Param #   \n",
            "=================================================================\n",
            " dense (Dense)               (None, 512)               1573376   \n",
            "                                                                 \n",
            " dropout (Dropout)           (None, 512)               0         \n",
            "                                                                 \n",
            " dense_1 (Dense)             (None, 512)               262656    \n",
            "                                                                 \n",
            " dropout_1 (Dropout)         (None, 512)               0         \n",
            "                                                                 \n",
            " dense_2 (Dense)             (None, 10)                5130      \n",
            "                                                                 \n",
            "=================================================================\n",
            "Total params: 1,841,162\n",
            "Trainable params: 1,841,162\n",
            "Non-trainable params: 0\n",
            "_________________________________________________________________\n"
          ]
        }
      ]
    },
    {
      "cell_type": "code",
      "source": [
        "#chạy model với số lần học là 500 và độ kiên nhẫn là 100\n",
        "model.compile(loss='categorical_crossentropy',optimizer=RMSprop(), metrics=['accuracy'])\n",
        "model.compile(loss='categorical_crossentropy',optimizer=RMSprop(), metrics=['accuracy'])\n",
        "from keras.callbacks import EarlyStopping\n",
        "history = model.fit(x_train,y_train,batch_size=128,epochs=500,verbose=1,\n",
        "                    validation_split=0.2,callbacks=[EarlyStopping(monitor='val_loss',patience=100)])"
      ],
      "metadata": {
        "colab": {
          "base_uri": "https://localhost:8080/"
        },
        "id": "1ihzXo-XqEk_",
        "outputId": "0b224ade-3e63-4997-c9d3-0d5144e06eb1"
      },
      "execution_count": null,
      "outputs": [
        {
          "output_type": "stream",
          "name": "stdout",
          "text": [
            "Epoch 1/500\n",
            "313/313 [==============================] - 13s 40ms/step - loss: 2.1850 - accuracy: 0.2376 - val_loss: 1.9183 - val_accuracy: 0.2842\n",
            "Epoch 2/500\n",
            "313/313 [==============================] - 12s 39ms/step - loss: 1.8693 - accuracy: 0.3244 - val_loss: 1.7557 - val_accuracy: 0.3680\n",
            "Epoch 3/500\n",
            "313/313 [==============================] - 13s 40ms/step - loss: 1.7939 - accuracy: 0.3547 - val_loss: 1.7339 - val_accuracy: 0.3761\n",
            "Epoch 4/500\n",
            "313/313 [==============================] - 12s 39ms/step - loss: 1.7466 - accuracy: 0.3726 - val_loss: 1.7268 - val_accuracy: 0.3909\n",
            "Epoch 5/500\n",
            "313/313 [==============================] - 12s 39ms/step - loss: 1.7045 - accuracy: 0.3907 - val_loss: 1.7114 - val_accuracy: 0.3794\n",
            "Epoch 6/500\n",
            "313/313 [==============================] - 13s 41ms/step - loss: 1.6785 - accuracy: 0.3995 - val_loss: 1.6814 - val_accuracy: 0.3929\n",
            "Epoch 7/500\n",
            "313/313 [==============================] - 12s 39ms/step - loss: 1.6533 - accuracy: 0.4050 - val_loss: 1.6487 - val_accuracy: 0.4144\n",
            "Epoch 8/500\n",
            "313/313 [==============================] - 12s 39ms/step - loss: 1.6341 - accuracy: 0.4125 - val_loss: 1.6722 - val_accuracy: 0.4117\n",
            "Epoch 9/500\n",
            "313/313 [==============================] - 12s 39ms/step - loss: 1.6136 - accuracy: 0.4221 - val_loss: 1.7396 - val_accuracy: 0.3838\n",
            "Epoch 10/500\n",
            "313/313 [==============================] - 12s 39ms/step - loss: 1.6012 - accuracy: 0.4280 - val_loss: 1.5773 - val_accuracy: 0.4326\n",
            "Epoch 11/500\n",
            "313/313 [==============================] - 12s 39ms/step - loss: 1.5836 - accuracy: 0.4359 - val_loss: 1.6176 - val_accuracy: 0.4268\n",
            "Epoch 12/500\n",
            "313/313 [==============================] - 12s 39ms/step - loss: 1.5720 - accuracy: 0.4401 - val_loss: 1.6116 - val_accuracy: 0.4299\n",
            "Epoch 13/500\n",
            "313/313 [==============================] - 12s 39ms/step - loss: 1.5639 - accuracy: 0.4397 - val_loss: 1.6053 - val_accuracy: 0.4324\n",
            "Epoch 14/500\n",
            "313/313 [==============================] - 12s 40ms/step - loss: 1.5525 - accuracy: 0.4451 - val_loss: 1.5529 - val_accuracy: 0.4593\n",
            "Epoch 15/500\n",
            "313/313 [==============================] - 12s 39ms/step - loss: 1.5466 - accuracy: 0.4468 - val_loss: 1.5568 - val_accuracy: 0.4601\n",
            "Epoch 16/500\n",
            "313/313 [==============================] - 12s 39ms/step - loss: 1.5350 - accuracy: 0.4519 - val_loss: 1.5277 - val_accuracy: 0.4587\n",
            "Epoch 17/500\n",
            "313/313 [==============================] - 12s 39ms/step - loss: 1.5283 - accuracy: 0.4548 - val_loss: 1.5306 - val_accuracy: 0.4596\n",
            "Epoch 18/500\n",
            "313/313 [==============================] - 12s 39ms/step - loss: 1.5199 - accuracy: 0.4550 - val_loss: 1.5582 - val_accuracy: 0.4471\n",
            "Epoch 19/500\n",
            "313/313 [==============================] - 12s 39ms/step - loss: 1.5121 - accuracy: 0.4613 - val_loss: 1.5386 - val_accuracy: 0.4637\n",
            "Epoch 20/500\n",
            "313/313 [==============================] - 12s 39ms/step - loss: 1.5088 - accuracy: 0.4637 - val_loss: 1.5105 - val_accuracy: 0.4721\n",
            "Epoch 21/500\n",
            "313/313 [==============================] - 12s 39ms/step - loss: 1.5074 - accuracy: 0.4611 - val_loss: 1.5433 - val_accuracy: 0.4546\n",
            "Epoch 22/500\n",
            "313/313 [==============================] - 12s 39ms/step - loss: 1.4926 - accuracy: 0.4686 - val_loss: 1.5147 - val_accuracy: 0.4623\n",
            "Epoch 23/500\n",
            "313/313 [==============================] - 12s 39ms/step - loss: 1.4914 - accuracy: 0.4658 - val_loss: 1.5507 - val_accuracy: 0.4556\n",
            "Epoch 24/500\n",
            "313/313 [==============================] - 12s 39ms/step - loss: 1.4795 - accuracy: 0.4748 - val_loss: 1.5536 - val_accuracy: 0.4538\n",
            "Epoch 25/500\n",
            "313/313 [==============================] - 12s 39ms/step - loss: 1.4797 - accuracy: 0.4723 - val_loss: 1.5371 - val_accuracy: 0.4636\n",
            "Epoch 26/500\n",
            "313/313 [==============================] - 12s 39ms/step - loss: 1.4752 - accuracy: 0.4758 - val_loss: 1.4999 - val_accuracy: 0.4873\n",
            "Epoch 27/500\n",
            "313/313 [==============================] - 12s 39ms/step - loss: 1.4728 - accuracy: 0.4738 - val_loss: 1.5645 - val_accuracy: 0.4587\n",
            "Epoch 28/500\n",
            "313/313 [==============================] - 12s 39ms/step - loss: 1.4672 - accuracy: 0.4754 - val_loss: 1.5325 - val_accuracy: 0.4611\n",
            "Epoch 29/500\n",
            "313/313 [==============================] - 12s 40ms/step - loss: 1.4610 - accuracy: 0.4798 - val_loss: 1.5008 - val_accuracy: 0.4769\n",
            "Epoch 30/500\n",
            "313/313 [==============================] - 12s 40ms/step - loss: 1.4560 - accuracy: 0.4815 - val_loss: 1.5255 - val_accuracy: 0.4701\n",
            "Epoch 31/500\n",
            "313/313 [==============================] - 12s 39ms/step - loss: 1.4559 - accuracy: 0.4839 - val_loss: 1.6087 - val_accuracy: 0.4460\n",
            "Epoch 32/500\n",
            "313/313 [==============================] - 12s 39ms/step - loss: 1.4509 - accuracy: 0.4835 - val_loss: 1.5338 - val_accuracy: 0.4585\n",
            "Epoch 33/500\n",
            "313/313 [==============================] - 12s 40ms/step - loss: 1.4446 - accuracy: 0.4876 - val_loss: 1.5085 - val_accuracy: 0.4618\n",
            "Epoch 34/500\n",
            "313/313 [==============================] - 12s 39ms/step - loss: 1.4460 - accuracy: 0.4834 - val_loss: 1.6264 - val_accuracy: 0.4378\n",
            "Epoch 35/500\n",
            "313/313 [==============================] - 12s 39ms/step - loss: 1.4380 - accuracy: 0.4906 - val_loss: 1.5225 - val_accuracy: 0.4725\n",
            "Epoch 36/500\n",
            "313/313 [==============================] - 12s 40ms/step - loss: 1.4378 - accuracy: 0.4888 - val_loss: 1.5293 - val_accuracy: 0.4594\n",
            "Epoch 37/500\n",
            "313/313 [==============================] - 12s 40ms/step - loss: 1.4348 - accuracy: 0.4909 - val_loss: 1.5404 - val_accuracy: 0.4628\n",
            "Epoch 38/500\n",
            "313/313 [==============================] - 12s 40ms/step - loss: 1.4278 - accuracy: 0.4920 - val_loss: 1.5194 - val_accuracy: 0.4625\n",
            "Epoch 39/500\n",
            "313/313 [==============================] - 12s 40ms/step - loss: 1.4236 - accuracy: 0.4935 - val_loss: 1.5486 - val_accuracy: 0.4601\n",
            "Epoch 40/500\n",
            "313/313 [==============================] - 12s 40ms/step - loss: 1.4251 - accuracy: 0.4960 - val_loss: 1.5480 - val_accuracy: 0.4635\n",
            "Epoch 41/500\n",
            "313/313 [==============================] - 12s 40ms/step - loss: 1.4267 - accuracy: 0.4951 - val_loss: 1.5229 - val_accuracy: 0.4643\n",
            "Epoch 42/500\n",
            "313/313 [==============================] - 12s 40ms/step - loss: 1.4178 - accuracy: 0.4973 - val_loss: 1.5392 - val_accuracy: 0.4545\n",
            "Epoch 43/500\n",
            "313/313 [==============================] - 12s 40ms/step - loss: 1.4110 - accuracy: 0.4987 - val_loss: 1.4860 - val_accuracy: 0.4856\n",
            "Epoch 44/500\n",
            "313/313 [==============================] - 12s 40ms/step - loss: 1.4219 - accuracy: 0.4948 - val_loss: 1.4946 - val_accuracy: 0.4791\n",
            "Epoch 45/500\n",
            "313/313 [==============================] - 12s 39ms/step - loss: 1.4150 - accuracy: 0.4978 - val_loss: 1.5377 - val_accuracy: 0.4568\n",
            "Epoch 46/500\n",
            "313/313 [==============================] - 12s 39ms/step - loss: 1.4181 - accuracy: 0.4963 - val_loss: 1.4781 - val_accuracy: 0.4879\n",
            "Epoch 47/500\n",
            "313/313 [==============================] - 12s 39ms/step - loss: 1.4008 - accuracy: 0.5035 - val_loss: 1.5104 - val_accuracy: 0.4746\n",
            "Epoch 48/500\n",
            "313/313 [==============================] - 12s 40ms/step - loss: 1.4070 - accuracy: 0.4985 - val_loss: 1.5091 - val_accuracy: 0.4773\n",
            "Epoch 49/500\n",
            "313/313 [==============================] - 12s 40ms/step - loss: 1.4029 - accuracy: 0.4995 - val_loss: 1.5287 - val_accuracy: 0.4736\n",
            "Epoch 50/500\n",
            "313/313 [==============================] - 12s 40ms/step - loss: 1.4085 - accuracy: 0.5033 - val_loss: 1.5122 - val_accuracy: 0.4753\n",
            "Epoch 51/500\n",
            "313/313 [==============================] - 12s 40ms/step - loss: 1.4000 - accuracy: 0.5032 - val_loss: 1.5852 - val_accuracy: 0.4514\n",
            "Epoch 52/500\n",
            "313/313 [==============================] - 12s 39ms/step - loss: 1.3995 - accuracy: 0.5044 - val_loss: 1.5498 - val_accuracy: 0.4646\n",
            "Epoch 53/500\n",
            "313/313 [==============================] - 12s 39ms/step - loss: 1.3965 - accuracy: 0.5037 - val_loss: 1.5238 - val_accuracy: 0.4720\n",
            "Epoch 54/500\n",
            "313/313 [==============================] - 12s 39ms/step - loss: 1.4007 - accuracy: 0.5035 - val_loss: 1.5339 - val_accuracy: 0.4735\n",
            "Epoch 55/500\n",
            "313/313 [==============================] - 12s 39ms/step - loss: 1.3935 - accuracy: 0.5071 - val_loss: 1.5851 - val_accuracy: 0.4458\n",
            "Epoch 56/500\n",
            "313/313 [==============================] - 12s 39ms/step - loss: 1.3936 - accuracy: 0.5081 - val_loss: 1.6200 - val_accuracy: 0.4527\n",
            "Epoch 57/500\n",
            "313/313 [==============================] - 12s 40ms/step - loss: 1.3914 - accuracy: 0.5082 - val_loss: 1.5591 - val_accuracy: 0.4655\n",
            "Epoch 58/500\n",
            "313/313 [==============================] - 12s 40ms/step - loss: 1.3904 - accuracy: 0.5079 - val_loss: 1.4807 - val_accuracy: 0.4950\n",
            "Epoch 59/500\n",
            "313/313 [==============================] - 12s 39ms/step - loss: 1.3822 - accuracy: 0.5135 - val_loss: 1.5154 - val_accuracy: 0.4697\n",
            "Epoch 60/500\n",
            "313/313 [==============================] - 12s 39ms/step - loss: 1.3814 - accuracy: 0.5135 - val_loss: 1.5439 - val_accuracy: 0.4675\n",
            "Epoch 61/500\n",
            "313/313 [==============================] - 12s 39ms/step - loss: 1.3827 - accuracy: 0.5117 - val_loss: 1.5382 - val_accuracy: 0.4612\n",
            "Epoch 62/500\n",
            "313/313 [==============================] - 12s 39ms/step - loss: 1.3900 - accuracy: 0.5093 - val_loss: 1.5910 - val_accuracy: 0.4467\n",
            "Epoch 63/500\n",
            "313/313 [==============================] - 12s 40ms/step - loss: 1.3762 - accuracy: 0.5157 - val_loss: 1.5082 - val_accuracy: 0.4761\n",
            "Epoch 64/500\n",
            "313/313 [==============================] - 12s 40ms/step - loss: 1.3708 - accuracy: 0.5133 - val_loss: 1.5279 - val_accuracy: 0.4744\n",
            "Epoch 65/500\n",
            "313/313 [==============================] - 12s 40ms/step - loss: 1.3773 - accuracy: 0.5149 - val_loss: 1.5365 - val_accuracy: 0.4756\n",
            "Epoch 66/500\n",
            "313/313 [==============================] - 12s 40ms/step - loss: 1.3792 - accuracy: 0.5113 - val_loss: 1.5651 - val_accuracy: 0.4463\n",
            "Epoch 67/500\n",
            "313/313 [==============================] - 12s 39ms/step - loss: 1.3752 - accuracy: 0.5146 - val_loss: 1.5401 - val_accuracy: 0.4809\n",
            "Epoch 68/500\n",
            "313/313 [==============================] - 12s 40ms/step - loss: 1.3760 - accuracy: 0.5157 - val_loss: 1.5398 - val_accuracy: 0.4714\n",
            "Epoch 69/500\n",
            "313/313 [==============================] - 12s 40ms/step - loss: 1.3748 - accuracy: 0.5129 - val_loss: 1.5052 - val_accuracy: 0.4809\n",
            "Epoch 70/500\n",
            "313/313 [==============================] - 12s 40ms/step - loss: 1.3699 - accuracy: 0.5187 - val_loss: 1.5681 - val_accuracy: 0.4830\n",
            "Epoch 71/500\n",
            "313/313 [==============================] - 12s 40ms/step - loss: 1.3713 - accuracy: 0.5152 - val_loss: 1.5657 - val_accuracy: 0.4553\n",
            "Epoch 72/500\n",
            "313/313 [==============================] - 12s 40ms/step - loss: 1.3635 - accuracy: 0.5179 - val_loss: 1.5289 - val_accuracy: 0.4718\n",
            "Epoch 73/500\n",
            "313/313 [==============================] - 12s 40ms/step - loss: 1.3714 - accuracy: 0.5178 - val_loss: 1.5725 - val_accuracy: 0.4649\n",
            "Epoch 74/500\n",
            "313/313 [==============================] - 12s 40ms/step - loss: 1.3593 - accuracy: 0.5197 - val_loss: 1.5570 - val_accuracy: 0.4684\n",
            "Epoch 75/500\n",
            "313/313 [==============================] - 12s 40ms/step - loss: 1.3650 - accuracy: 0.5196 - val_loss: 1.5477 - val_accuracy: 0.4689\n",
            "Epoch 76/500\n",
            "313/313 [==============================] - 12s 40ms/step - loss: 1.3720 - accuracy: 0.5194 - val_loss: 1.5539 - val_accuracy: 0.4645\n",
            "Epoch 77/500\n",
            "313/313 [==============================] - 12s 40ms/step - loss: 1.3603 - accuracy: 0.5192 - val_loss: 1.5469 - val_accuracy: 0.4717\n",
            "Epoch 78/500\n",
            "313/313 [==============================] - 12s 40ms/step - loss: 1.3642 - accuracy: 0.5188 - val_loss: 1.5333 - val_accuracy: 0.4897\n",
            "Epoch 79/500\n",
            "313/313 [==============================] - 13s 40ms/step - loss: 1.3749 - accuracy: 0.5147 - val_loss: 1.5509 - val_accuracy: 0.4698\n",
            "Epoch 80/500\n",
            "313/313 [==============================] - 12s 40ms/step - loss: 1.3609 - accuracy: 0.5195 - val_loss: 1.6599 - val_accuracy: 0.4418\n",
            "Epoch 81/500\n",
            "313/313 [==============================] - 12s 40ms/step - loss: 1.3611 - accuracy: 0.5196 - val_loss: 1.6417 - val_accuracy: 0.4740\n",
            "Epoch 82/500\n",
            "313/313 [==============================] - 13s 40ms/step - loss: 1.3592 - accuracy: 0.5192 - val_loss: 1.5702 - val_accuracy: 0.4586\n",
            "Epoch 83/500\n",
            "313/313 [==============================] - 13s 40ms/step - loss: 1.3563 - accuracy: 0.5218 - val_loss: 1.7556 - val_accuracy: 0.4239\n",
            "Epoch 84/500\n",
            "313/313 [==============================] - 12s 40ms/step - loss: 1.3609 - accuracy: 0.5208 - val_loss: 1.6094 - val_accuracy: 0.4476\n",
            "Epoch 85/500\n",
            "313/313 [==============================] - 12s 40ms/step - loss: 1.3609 - accuracy: 0.5220 - val_loss: 1.5913 - val_accuracy: 0.4757\n",
            "Epoch 86/500\n",
            "313/313 [==============================] - 12s 40ms/step - loss: 1.3626 - accuracy: 0.5221 - val_loss: 1.6111 - val_accuracy: 0.4716\n",
            "Epoch 87/500\n",
            "313/313 [==============================] - 13s 40ms/step - loss: 1.3588 - accuracy: 0.5243 - val_loss: 1.5430 - val_accuracy: 0.4805\n",
            "Epoch 88/500\n",
            "313/313 [==============================] - 12s 40ms/step - loss: 1.3546 - accuracy: 0.5224 - val_loss: 1.5112 - val_accuracy: 0.4936\n",
            "Epoch 89/500\n",
            "313/313 [==============================] - 12s 40ms/step - loss: 1.3467 - accuracy: 0.5253 - val_loss: 1.5834 - val_accuracy: 0.4603\n",
            "Epoch 90/500\n",
            "313/313 [==============================] - 12s 40ms/step - loss: 1.3525 - accuracy: 0.5217 - val_loss: 1.5667 - val_accuracy: 0.4607\n",
            "Epoch 91/500\n",
            "313/313 [==============================] - 12s 40ms/step - loss: 1.3506 - accuracy: 0.5227 - val_loss: 1.6040 - val_accuracy: 0.4778\n",
            "Epoch 92/500\n",
            "313/313 [==============================] - 12s 40ms/step - loss: 1.3566 - accuracy: 0.5260 - val_loss: 1.7020 - val_accuracy: 0.4474\n",
            "Epoch 93/500\n",
            "313/313 [==============================] - 12s 40ms/step - loss: 1.3479 - accuracy: 0.5279 - val_loss: 1.6683 - val_accuracy: 0.4444\n",
            "Epoch 94/500\n",
            "313/313 [==============================] - 12s 40ms/step - loss: 1.3520 - accuracy: 0.5255 - val_loss: 1.5564 - val_accuracy: 0.4792\n",
            "Epoch 95/500\n",
            "313/313 [==============================] - 13s 40ms/step - loss: 1.3478 - accuracy: 0.5260 - val_loss: 1.5685 - val_accuracy: 0.4737\n",
            "Epoch 96/500\n",
            "313/313 [==============================] - 12s 40ms/step - loss: 1.3553 - accuracy: 0.5236 - val_loss: 1.5685 - val_accuracy: 0.4802\n",
            "Epoch 97/500\n",
            "313/313 [==============================] - 13s 40ms/step - loss: 1.3548 - accuracy: 0.5231 - val_loss: 1.5898 - val_accuracy: 0.4666\n",
            "Epoch 98/500\n",
            "313/313 [==============================] - 13s 40ms/step - loss: 1.3515 - accuracy: 0.5252 - val_loss: 1.5853 - val_accuracy: 0.4743\n",
            "Epoch 99/500\n",
            "313/313 [==============================] - 13s 40ms/step - loss: 1.3515 - accuracy: 0.5285 - val_loss: 1.5909 - val_accuracy: 0.4449\n",
            "Epoch 100/500\n",
            "313/313 [==============================] - 12s 40ms/step - loss: 1.3455 - accuracy: 0.5252 - val_loss: 1.5737 - val_accuracy: 0.4743\n",
            "Epoch 101/500\n",
            "313/313 [==============================] - 13s 40ms/step - loss: 1.3444 - accuracy: 0.5266 - val_loss: 1.6210 - val_accuracy: 0.4713\n",
            "Epoch 102/500\n",
            "313/313 [==============================] - 13s 40ms/step - loss: 1.3466 - accuracy: 0.5267 - val_loss: 1.5955 - val_accuracy: 0.4575\n",
            "Epoch 103/500\n",
            "313/313 [==============================] - 13s 40ms/step - loss: 1.3631 - accuracy: 0.5264 - val_loss: 1.6039 - val_accuracy: 0.4801\n",
            "Epoch 104/500\n",
            "313/313 [==============================] - 13s 40ms/step - loss: 1.3470 - accuracy: 0.5253 - val_loss: 1.5907 - val_accuracy: 0.4615\n",
            "Epoch 105/500\n",
            "313/313 [==============================] - 13s 41ms/step - loss: 1.3440 - accuracy: 0.5255 - val_loss: 1.6571 - val_accuracy: 0.4704\n",
            "Epoch 106/500\n",
            "313/313 [==============================] - 13s 40ms/step - loss: 1.3531 - accuracy: 0.5245 - val_loss: 1.6545 - val_accuracy: 0.4720\n",
            "Epoch 107/500\n",
            "313/313 [==============================] - 13s 40ms/step - loss: 1.3365 - accuracy: 0.5315 - val_loss: 1.6269 - val_accuracy: 0.4738\n",
            "Epoch 108/500\n",
            "313/313 [==============================] - 13s 40ms/step - loss: 1.3359 - accuracy: 0.5303 - val_loss: 1.5859 - val_accuracy: 0.4753\n",
            "Epoch 109/500\n",
            "313/313 [==============================] - 13s 40ms/step - loss: 1.3451 - accuracy: 0.5279 - val_loss: 1.5880 - val_accuracy: 0.4790\n",
            "Epoch 110/500\n",
            "313/313 [==============================] - 13s 40ms/step - loss: 1.3367 - accuracy: 0.5311 - val_loss: 1.6289 - val_accuracy: 0.4626\n",
            "Epoch 111/500\n",
            "313/313 [==============================] - 13s 40ms/step - loss: 1.3365 - accuracy: 0.5284 - val_loss: 1.5791 - val_accuracy: 0.4583\n",
            "Epoch 112/500\n",
            "313/313 [==============================] - 13s 40ms/step - loss: 1.3387 - accuracy: 0.5293 - val_loss: 1.5853 - val_accuracy: 0.4745\n",
            "Epoch 113/500\n",
            "313/313 [==============================] - 13s 40ms/step - loss: 1.3353 - accuracy: 0.5317 - val_loss: 1.7159 - val_accuracy: 0.4374\n",
            "Epoch 114/500\n",
            "313/313 [==============================] - 12s 40ms/step - loss: 1.3513 - accuracy: 0.5286 - val_loss: 1.6089 - val_accuracy: 0.4696\n",
            "Epoch 115/500\n",
            "313/313 [==============================] - 13s 40ms/step - loss: 1.3376 - accuracy: 0.5266 - val_loss: 1.6427 - val_accuracy: 0.4616\n",
            "Epoch 116/500\n",
            "313/313 [==============================] - 13s 40ms/step - loss: 1.3399 - accuracy: 0.5290 - val_loss: 1.6422 - val_accuracy: 0.4496\n",
            "Epoch 117/500\n",
            "313/313 [==============================] - 12s 40ms/step - loss: 1.3479 - accuracy: 0.5307 - val_loss: 1.5626 - val_accuracy: 0.4823\n",
            "Epoch 118/500\n",
            "313/313 [==============================] - 13s 40ms/step - loss: 1.3402 - accuracy: 0.5318 - val_loss: 1.6392 - val_accuracy: 0.4635\n",
            "Epoch 119/500\n",
            "313/313 [==============================] - 12s 40ms/step - loss: 1.3396 - accuracy: 0.5318 - val_loss: 1.6817 - val_accuracy: 0.4728\n",
            "Epoch 120/500\n",
            "313/313 [==============================] - 13s 40ms/step - loss: 1.3351 - accuracy: 0.5306 - val_loss: 1.5664 - val_accuracy: 0.4767\n",
            "Epoch 121/500\n",
            "313/313 [==============================] - 13s 40ms/step - loss: 1.3378 - accuracy: 0.5322 - val_loss: 1.5708 - val_accuracy: 0.4755\n",
            "Epoch 122/500\n",
            "313/313 [==============================] - 13s 40ms/step - loss: 1.3366 - accuracy: 0.5323 - val_loss: 1.6731 - val_accuracy: 0.4630\n",
            "Epoch 123/500\n",
            "313/313 [==============================] - 12s 40ms/step - loss: 1.3478 - accuracy: 0.5274 - val_loss: 1.6246 - val_accuracy: 0.4445\n",
            "Epoch 124/500\n",
            "313/313 [==============================] - 13s 40ms/step - loss: 1.3332 - accuracy: 0.5332 - val_loss: 1.6750 - val_accuracy: 0.4523\n",
            "Epoch 125/500\n",
            "313/313 [==============================] - 13s 40ms/step - loss: 1.3432 - accuracy: 0.5294 - val_loss: 1.6228 - val_accuracy: 0.4633\n",
            "Epoch 126/500\n",
            "313/313 [==============================] - 13s 40ms/step - loss: 1.3386 - accuracy: 0.5301 - val_loss: 1.6612 - val_accuracy: 0.4820\n",
            "Epoch 127/500\n",
            "313/313 [==============================] - 13s 40ms/step - loss: 1.3451 - accuracy: 0.5296 - val_loss: 1.7459 - val_accuracy: 0.4520\n",
            "Epoch 128/500\n",
            "313/313 [==============================] - 13s 40ms/step - loss: 1.3379 - accuracy: 0.5310 - val_loss: 1.6754 - val_accuracy: 0.4627\n",
            "Epoch 129/500\n",
            "313/313 [==============================] - 12s 40ms/step - loss: 1.3374 - accuracy: 0.5321 - val_loss: 1.6059 - val_accuracy: 0.4681\n",
            "Epoch 130/500\n",
            "313/313 [==============================] - 13s 40ms/step - loss: 1.3400 - accuracy: 0.5301 - val_loss: 1.7211 - val_accuracy: 0.4622\n",
            "Epoch 131/500\n",
            "313/313 [==============================] - 13s 40ms/step - loss: 1.3379 - accuracy: 0.5308 - val_loss: 1.6057 - val_accuracy: 0.4802\n",
            "Epoch 132/500\n",
            "313/313 [==============================] - 13s 40ms/step - loss: 1.3315 - accuracy: 0.5327 - val_loss: 1.7000 - val_accuracy: 0.4359\n",
            "Epoch 133/500\n",
            "313/313 [==============================] - 13s 40ms/step - loss: 1.3354 - accuracy: 0.5304 - val_loss: 1.7700 - val_accuracy: 0.4570\n",
            "Epoch 134/500\n",
            "313/313 [==============================] - 13s 40ms/step - loss: 1.3330 - accuracy: 0.5345 - val_loss: 1.6097 - val_accuracy: 0.4696\n",
            "Epoch 135/500\n",
            "313/313 [==============================] - 13s 40ms/step - loss: 1.3342 - accuracy: 0.5326 - val_loss: 1.6112 - val_accuracy: 0.4754\n",
            "Epoch 136/500\n",
            "313/313 [==============================] - 13s 40ms/step - loss: 1.3284 - accuracy: 0.5337 - val_loss: 1.8297 - val_accuracy: 0.4679\n",
            "Epoch 137/500\n",
            "313/313 [==============================] - 13s 40ms/step - loss: 1.3353 - accuracy: 0.5354 - val_loss: 1.6631 - val_accuracy: 0.4749\n",
            "Epoch 138/500\n",
            "313/313 [==============================] - 13s 40ms/step - loss: 1.3315 - accuracy: 0.5353 - val_loss: 1.6566 - val_accuracy: 0.4572\n",
            "Epoch 139/500\n",
            "313/313 [==============================] - 13s 40ms/step - loss: 1.3279 - accuracy: 0.5361 - val_loss: 1.7181 - val_accuracy: 0.4603\n",
            "Epoch 140/500\n",
            "313/313 [==============================] - 13s 40ms/step - loss: 1.3290 - accuracy: 0.5372 - val_loss: 2.2956 - val_accuracy: 0.4364\n",
            "Epoch 141/500\n",
            "313/313 [==============================] - 13s 40ms/step - loss: 1.3359 - accuracy: 0.5328 - val_loss: 1.7071 - val_accuracy: 0.4778\n",
            "Epoch 142/500\n",
            "313/313 [==============================] - 13s 40ms/step - loss: 1.3348 - accuracy: 0.5350 - val_loss: 1.6459 - val_accuracy: 0.4596\n",
            "Epoch 143/500\n",
            "313/313 [==============================] - 12s 40ms/step - loss: 1.3381 - accuracy: 0.5347 - val_loss: 1.6893 - val_accuracy: 0.4818\n",
            "Epoch 144/500\n",
            "313/313 [==============================] - 13s 40ms/step - loss: 1.3377 - accuracy: 0.5328 - val_loss: 1.7396 - val_accuracy: 0.4601\n",
            "Epoch 145/500\n",
            "313/313 [==============================] - 13s 40ms/step - loss: 1.3483 - accuracy: 0.5315 - val_loss: 1.5897 - val_accuracy: 0.4752\n",
            "Epoch 146/500\n",
            "313/313 [==============================] - 13s 41ms/step - loss: 1.3265 - accuracy: 0.5332 - val_loss: 1.6528 - val_accuracy: 0.4664\n"
          ]
        }
      ]
    },
    {
      "cell_type": "code",
      "source": [
        "#đánh giá chất lượng của mô hình và vẽ lại\n",
        "score = model.evaluate(x_test,y_test,verbose=0)\n",
        "print('Sai số kiểm tra là: ',score[0])\n",
        "print('Độ chính xác kiểm tra là: ',score[1])\n",
        "#vẽ đồ thị\n",
        "plt.plot(history.history['accuracy'])\n",
        "plt.plot(history.history['val_accuracy'])\n",
        "plt.title('model accuracy')\n",
        "plt.ylabel('accuracy')\n",
        "plt.xlabel('epochs')\n",
        "plt.legend(['train','Validation'])\n",
        "plt.show()"
      ],
      "metadata": {
        "id": "0fid5UKO1gDQ",
        "outputId": "b4594f1a-71ad-496e-f5ac-79df23f98c05",
        "colab": {
          "base_uri": "https://localhost:8080/",
          "height": 330
        }
      },
      "execution_count": null,
      "outputs": [
        {
          "output_type": "stream",
          "name": "stdout",
          "text": [
            "Sai số kiểm tra là:  1.588935375213623\n",
            "Độ chính xác kiểm tra là:  0.4681999981403351\n"
          ]
        },
        {
          "output_type": "display_data",
          "data": {
            "text/plain": [
              "<Figure size 432x288 with 1 Axes>"
            ],
            "image/png": "[encoded data removed]"
          },
          "metadata": {
            "needs_background": "light"
          }
        }
      ]
    }
  ]
}