{
  "nbformat": 4,
  "nbformat_minor": 0,
  "metadata": {
    "colab": {
      "name": "BT_Mnist.ipynb",
      "provenance": [],
      "collapsed_sections": [],
      "authorship_tag": "ABX9TyNlYYJQJx4jQuX9geyPfLML",
      "include_colab_link": true
    },
    "kernelspec": {
      "name": "python3",
      "display_name": "Python 3"
    },
    "language_info": {
      "name": "python"
    }
  },
  "cells": [
    {
      "cell_type": "markdown",
      "metadata": {
        "id": "view-in-github",
        "colab_type": "text"
      },
      "source": [
        "<a href=\"https://colab.research.google.com/github/Trieunguyen1/BAI_TAP_AI/blob/main/BT_Mnist.ipynb\" target=\"_parent\"><img src=\"https://colab.research.google.com/assets/colab-badge.svg\" alt=\"Open In Colab\"/></a>"
      ]
    },
    {
      "cell_type": "code",
      "execution_count": null,
      "metadata": {
        "id": "qCEdevsD1p7W"
      },
      "outputs": [],
      "source": [
        "#import thư viện\n",
        "import numpy as np #thư viện xử lý ma trận\n",
        "from keras.utils import np_utils # thư viện xử lý chuyển class\n",
        "from keras.datasets import mnist # gọi tập dataset chữ số viết tay\n",
        "from keras.models import Sequential # hàm chạy mô hình\n",
        "from keras.layers import Dense, Dropout # tạo mạng nơ ron\n",
        "from tensorflow.keras.optimizers import RMSprop \n",
        "import matplotlib.pyplot as plt  # thư viện dùng để vẽ"
      ]
    },
    {
      "cell_type": "code",
      "source": [
        "# chia tập dữ liệu thành 2 bộ train và test\n",
        "(x_train, y_train),(x_test,y_test) = mnist.load_data()"
      ],
      "metadata": {
        "colab": {
          "base_uri": "https://localhost:8080/"
        },
        "id": "ySkFoW201w-W",
        "outputId": "be5d80fa-7056-4d19-f047-ffdc2ba5d72d"
      },
      "execution_count": null,
      "outputs": [
        {
          "output_type": "stream",
          "name": "stdout",
          "text": [
            "Downloading data from https://storage.googleapis.com/tensorflow/tf-keras-datasets/mnist.npz\n",
            "11493376/11490434 [==============================] - 0s 0us/step\n",
            "11501568/11490434 [==============================] - 0s 0us/step\n"
          ]
        }
      ]
    },
    {
      "cell_type": "code",
      "source": [
        "# xem kích thược của tập dữ liệu\n",
        "print('Kích thước x_train: ', x_train.shape)\n",
        "print('Kích thước y_train: ', y_train.shape)\n",
        "print('Kích thước x_test: ', x_test.shape)\n",
        "print('Kích thước y_test: ', y_test.shape)"
      ],
      "metadata": {
        "colab": {
          "base_uri": "https://localhost:8080/"
        },
        "id": "Q6i22gJ01xcl",
        "outputId": "44255bf3-8fee-4b19-e23c-213ebeefa8f4"
      },
      "execution_count": null,
      "outputs": [
        {
          "output_type": "stream",
          "name": "stdout",
          "text": [
            "Kích thước x_train:  (60000, 28, 28)\n",
            "Kích thước y_train:  (60000,)\n",
            "Kích thước x_test:  (10000, 28, 28)\n",
            "Kích thước y_test:  (10000,)\n"
          ]
        }
      ]
    },
    {
      "cell_type": "code",
      "source": [
        "#chuyển chiều của x từ 3 chiều về 2 chiều\n",
        "x_train = x_train.reshape(60000,784)\n",
        "x_test = x_test.reshape(10000,784)\n",
        "# ép kiểu\n",
        "x_train = x_train.astype('float32')\n",
        "x_test = x_test.astype('float32')\n",
        "#chuẩn hóa dữ liệu\n",
        "x_train /=255\n",
        "x_test /=255\n",
        "#chuyển y từ 1 class thành 10 class\n",
        "y_train = np_utils.to_categorical(y_train,10)\n",
        "y_test = np_utils.to_categorical(y_test,10)"
      ],
      "metadata": {
        "id": "A8KfqPUZ1zI7"
      },
      "execution_count": null,
      "outputs": []
    },
    {
      "cell_type": "code",
      "source": [
        "y_train.shape"
      ],
      "metadata": {
        "colab": {
          "base_uri": "https://localhost:8080/"
        },
        "id": "JB4yuHYa15Ve",
        "outputId": "6ed9bd07-62de-44c6-e27c-22578f15ab09"
      },
      "execution_count": null,
      "outputs": [
        {
          "output_type": "execute_result",
          "data": {
            "text/plain": [
              "(60000, 10)"
            ]
          },
          "metadata": {},
          "execution_count": 5
        }
      ]
    },
    {
      "cell_type": "code",
      "source": [
        "y_test.shape"
      ],
      "metadata": {
        "colab": {
          "base_uri": "https://localhost:8080/"
        },
        "id": "5G1COtbs17GN",
        "outputId": "9f69a1c6-e998-4799-cf8b-cf6745cd5e29"
      },
      "execution_count": null,
      "outputs": [
        {
          "output_type": "execute_result",
          "data": {
            "text/plain": [
              "(10000, 10)"
            ]
          },
          "metadata": {},
          "execution_count": 6
        }
      ]
    },
    {
      "cell_type": "code",
      "source": [
        "#tạo mạng nơ-ron\n",
        "model = Sequential()\n",
        "model.add(Dense(512,activation='relu',input_shape=(784,)))\n",
        "model.add(Dropout(0.2))\n",
        "model.add(Dense(512,activation='relu'))\n",
        "model.add(Dropout(0.2))\n",
        "model.add(Dense(10,activation='softmax'))\n",
        "\n",
        "model.summary()"
      ],
      "metadata": {
        "colab": {
          "base_uri": "https://localhost:8080/"
        },
        "id": "ea4mtvOV18eW",
        "outputId": "6775ebbc-c37d-4823-b28d-bcf4e14d3549"
      },
      "execution_count": null,
      "outputs": [
        {
          "output_type": "stream",
          "name": "stdout",
          "text": [
            "Model: \"sequential\"\n",
            "_________________________________________________________________\n",
            " Layer (type)                Output Shape              Param #   \n",
            "=================================================================\n",
            " dense (Dense)               (None, 512)               401920    \n",
            "                                                                 \n",
            " dropout (Dropout)           (None, 512)               0         \n",
            "                                                                 \n",
            " dense_1 (Dense)             (None, 512)               262656    \n",
            "                                                                 \n",
            " dropout_1 (Dropout)         (None, 512)               0         \n",
            "                                                                 \n",
            " dense_2 (Dense)             (None, 10)                5130      \n",
            "                                                                 \n",
            "=================================================================\n",
            "Total params: 669,706\n",
            "Trainable params: 669,706\n",
            "Non-trainable params: 0\n",
            "_________________________________________________________________\n"
          ]
        }
      ]
    },
    {
      "cell_type": "code",
      "source": [
        "#chạy model với số lần học là 500 và độ kiên nhẫn là 100\n",
        "model.compile(loss='categorical_crossentropy',optimizer=RMSprop(), metrics=['accuracy'])\n",
        "model.compile(loss='categorical_crossentropy',optimizer=RMSprop(), metrics=['accuracy'])\n",
        "from keras.callbacks import EarlyStopping\n",
        "history = model.fit(x_train,y_train,batch_size=128,epochs=500,verbose=1,\n",
        "                    validation_split=0.2,callbacks=[EarlyStopping(monitor='val_loss',patience=100)])"
      ],
      "metadata": {
        "colab": {
          "base_uri": "https://localhost:8080/"
        },
        "id": "zeVFfEKA1-B9",
        "outputId": "d004ccb6-2324-4885-8fbd-beb2abdcf56f"
      },
      "execution_count": null,
      "outputs": [
        {
          "output_type": "stream",
          "name": "stdout",
          "text": [
            "Epoch 1/500\n",
            "375/375 [==============================] - 9s 22ms/step - loss: 0.2762 - accuracy: 0.9131 - val_loss: 0.1213 - val_accuracy: 0.9617\n",
            "Epoch 2/500\n",
            "375/375 [==============================] - 8s 22ms/step - loss: 0.1108 - accuracy: 0.9666 - val_loss: 0.0987 - val_accuracy: 0.9716\n",
            "Epoch 3/500\n",
            "375/375 [==============================] - 8s 21ms/step - loss: 0.0765 - accuracy: 0.9767 - val_loss: 0.0893 - val_accuracy: 0.9759\n",
            "Epoch 4/500\n",
            "375/375 [==============================] - 8s 22ms/step - loss: 0.0600 - accuracy: 0.9812 - val_loss: 0.0818 - val_accuracy: 0.9783\n",
            "Epoch 5/500\n",
            "375/375 [==============================] - 8s 22ms/step - loss: 0.0488 - accuracy: 0.9856 - val_loss: 0.0969 - val_accuracy: 0.9758\n",
            "Epoch 6/500\n",
            "375/375 [==============================] - 8s 21ms/step - loss: 0.0424 - accuracy: 0.9867 - val_loss: 0.0955 - val_accuracy: 0.9777\n",
            "Epoch 7/500\n",
            "375/375 [==============================] - 8s 22ms/step - loss: 0.0382 - accuracy: 0.9884 - val_loss: 0.0901 - val_accuracy: 0.9796\n",
            "Epoch 8/500\n",
            "375/375 [==============================] - 9s 25ms/step - loss: 0.0337 - accuracy: 0.9900 - val_loss: 0.1047 - val_accuracy: 0.9795\n",
            "Epoch 9/500\n",
            "375/375 [==============================] - 8s 22ms/step - loss: 0.0309 - accuracy: 0.9904 - val_loss: 0.0920 - val_accuracy: 0.9812\n",
            "Epoch 10/500\n",
            "375/375 [==============================] - 8s 22ms/step - loss: 0.0273 - accuracy: 0.9921 - val_loss: 0.1158 - val_accuracy: 0.9803\n",
            "Epoch 11/500\n",
            "375/375 [==============================] - 8s 22ms/step - loss: 0.0257 - accuracy: 0.9924 - val_loss: 0.1130 - val_accuracy: 0.9808\n",
            "Epoch 12/500\n",
            "375/375 [==============================] - 8s 22ms/step - loss: 0.0240 - accuracy: 0.9925 - val_loss: 0.1277 - val_accuracy: 0.9808\n",
            "Epoch 13/500\n",
            "375/375 [==============================] - 8s 22ms/step - loss: 0.0215 - accuracy: 0.9936 - val_loss: 0.1271 - val_accuracy: 0.9814\n",
            "Epoch 14/500\n",
            "375/375 [==============================] - 8s 22ms/step - loss: 0.0187 - accuracy: 0.9944 - val_loss: 0.1275 - val_accuracy: 0.9810\n",
            "Epoch 15/500\n",
            "375/375 [==============================] - 8s 22ms/step - loss: 0.0197 - accuracy: 0.9938 - val_loss: 0.1334 - val_accuracy: 0.9793\n",
            "Epoch 16/500\n",
            "375/375 [==============================] - 8s 22ms/step - loss: 0.0191 - accuracy: 0.9945 - val_loss: 0.1391 - val_accuracy: 0.9816\n",
            "Epoch 17/500\n",
            "375/375 [==============================] - 8s 21ms/step - loss: 0.0172 - accuracy: 0.9949 - val_loss: 0.1504 - val_accuracy: 0.9806\n",
            "Epoch 18/500\n",
            "375/375 [==============================] - 8s 22ms/step - loss: 0.0157 - accuracy: 0.9956 - val_loss: 0.1443 - val_accuracy: 0.9821\n",
            "Epoch 19/500\n",
            "375/375 [==============================] - 8s 22ms/step - loss: 0.0166 - accuracy: 0.9957 - val_loss: 0.1592 - val_accuracy: 0.9803\n",
            "Epoch 20/500\n",
            "375/375 [==============================] - 8s 22ms/step - loss: 0.0136 - accuracy: 0.9959 - val_loss: 0.1599 - val_accuracy: 0.9825\n",
            "Epoch 21/500\n",
            "375/375 [==============================] - 8s 22ms/step - loss: 0.0144 - accuracy: 0.9960 - val_loss: 0.1715 - val_accuracy: 0.9801\n",
            "Epoch 22/500\n",
            "375/375 [==============================] - 8s 21ms/step - loss: 0.0163 - accuracy: 0.9958 - val_loss: 0.1713 - val_accuracy: 0.9818\n",
            "Epoch 23/500\n",
            "375/375 [==============================] - 8s 22ms/step - loss: 0.0130 - accuracy: 0.9965 - val_loss: 0.1584 - val_accuracy: 0.9812\n",
            "Epoch 24/500\n",
            "375/375 [==============================] - 8s 22ms/step - loss: 0.0136 - accuracy: 0.9964 - val_loss: 0.1714 - val_accuracy: 0.9807\n",
            "Epoch 25/500\n",
            "375/375 [==============================] - 8s 22ms/step - loss: 0.0135 - accuracy: 0.9968 - val_loss: 0.1637 - val_accuracy: 0.9819\n",
            "Epoch 26/500\n",
            "375/375 [==============================] - 8s 21ms/step - loss: 0.0151 - accuracy: 0.9962 - val_loss: 0.1612 - val_accuracy: 0.9828\n",
            "Epoch 27/500\n",
            "375/375 [==============================] - 8s 22ms/step - loss: 0.0115 - accuracy: 0.9970 - val_loss: 0.1758 - val_accuracy: 0.9815\n",
            "Epoch 28/500\n",
            "375/375 [==============================] - 8s 21ms/step - loss: 0.0108 - accuracy: 0.9971 - val_loss: 0.1747 - val_accuracy: 0.9830\n",
            "Epoch 29/500\n",
            "375/375 [==============================] - 8s 21ms/step - loss: 0.0130 - accuracy: 0.9965 - val_loss: 0.1777 - val_accuracy: 0.9827\n",
            "Epoch 30/500\n",
            "375/375 [==============================] - 8s 21ms/step - loss: 0.0119 - accuracy: 0.9970 - val_loss: 0.1833 - val_accuracy: 0.9822\n",
            "Epoch 31/500\n",
            "375/375 [==============================] - 8s 22ms/step - loss: 0.0118 - accuracy: 0.9972 - val_loss: 0.1934 - val_accuracy: 0.9817\n",
            "Epoch 32/500\n",
            "375/375 [==============================] - 8s 21ms/step - loss: 0.0108 - accuracy: 0.9974 - val_loss: 0.1682 - val_accuracy: 0.9837\n",
            "Epoch 33/500\n",
            "375/375 [==============================] - 8s 22ms/step - loss: 0.0111 - accuracy: 0.9973 - val_loss: 0.1949 - val_accuracy: 0.9831\n",
            "Epoch 34/500\n",
            "375/375 [==============================] - 8s 22ms/step - loss: 0.0105 - accuracy: 0.9974 - val_loss: 0.2188 - val_accuracy: 0.9820\n",
            "Epoch 35/500\n",
            "375/375 [==============================] - 8s 21ms/step - loss: 0.0109 - accuracy: 0.9973 - val_loss: 0.2011 - val_accuracy: 0.9828\n",
            "Epoch 36/500\n",
            "375/375 [==============================] - 8s 22ms/step - loss: 0.0089 - accuracy: 0.9979 - val_loss: 0.2140 - val_accuracy: 0.9818\n",
            "Epoch 37/500\n",
            "375/375 [==============================] - 8s 22ms/step - loss: 0.0100 - accuracy: 0.9976 - val_loss: 0.2019 - val_accuracy: 0.9829\n",
            "Epoch 38/500\n",
            "375/375 [==============================] - 8s 22ms/step - loss: 0.0090 - accuracy: 0.9976 - val_loss: 0.2162 - val_accuracy: 0.9839\n",
            "Epoch 39/500\n",
            "375/375 [==============================] - 8s 22ms/step - loss: 0.0112 - accuracy: 0.9973 - val_loss: 0.2071 - val_accuracy: 0.9812\n",
            "Epoch 40/500\n",
            "375/375 [==============================] - 8s 22ms/step - loss: 0.0087 - accuracy: 0.9980 - val_loss: 0.2324 - val_accuracy: 0.9812\n",
            "Epoch 41/500\n",
            "375/375 [==============================] - 8s 22ms/step - loss: 0.0093 - accuracy: 0.9976 - val_loss: 0.2081 - val_accuracy: 0.9825\n",
            "Epoch 42/500\n",
            "375/375 [==============================] - 8s 21ms/step - loss: 0.0086 - accuracy: 0.9980 - val_loss: 0.2204 - val_accuracy: 0.9826\n",
            "Epoch 43/500\n",
            "375/375 [==============================] - 8s 21ms/step - loss: 0.0078 - accuracy: 0.9982 - val_loss: 0.2336 - val_accuracy: 0.9823\n",
            "Epoch 44/500\n",
            "375/375 [==============================] - 8s 21ms/step - loss: 0.0115 - accuracy: 0.9976 - val_loss: 0.2384 - val_accuracy: 0.9818\n",
            "Epoch 45/500\n",
            "375/375 [==============================] - 8s 21ms/step - loss: 0.0097 - accuracy: 0.9977 - val_loss: 0.2137 - val_accuracy: 0.9832\n",
            "Epoch 46/500\n",
            "375/375 [==============================] - 8s 21ms/step - loss: 0.0078 - accuracy: 0.9982 - val_loss: 0.2527 - val_accuracy: 0.9812\n",
            "Epoch 47/500\n",
            "375/375 [==============================] - 8s 22ms/step - loss: 0.0093 - accuracy: 0.9976 - val_loss: 0.2327 - val_accuracy: 0.9821\n",
            "Epoch 48/500\n",
            "375/375 [==============================] - 8s 22ms/step - loss: 0.0080 - accuracy: 0.9980 - val_loss: 0.2295 - val_accuracy: 0.9836\n",
            "Epoch 49/500\n",
            "375/375 [==============================] - 8s 22ms/step - loss: 0.0082 - accuracy: 0.9979 - val_loss: 0.2422 - val_accuracy: 0.9820\n",
            "Epoch 50/500\n",
            "375/375 [==============================] - 8s 22ms/step - loss: 0.0083 - accuracy: 0.9981 - val_loss: 0.2361 - val_accuracy: 0.9829\n",
            "Epoch 51/500\n",
            "375/375 [==============================] - 8s 22ms/step - loss: 0.0082 - accuracy: 0.9981 - val_loss: 0.2459 - val_accuracy: 0.9827\n",
            "Epoch 52/500\n",
            "375/375 [==============================] - 8s 22ms/step - loss: 0.0087 - accuracy: 0.9983 - val_loss: 0.2277 - val_accuracy: 0.9839\n",
            "Epoch 53/500\n",
            "375/375 [==============================] - 8s 22ms/step - loss: 0.0074 - accuracy: 0.9983 - val_loss: 0.2362 - val_accuracy: 0.9827\n",
            "Epoch 54/500\n",
            "375/375 [==============================] - 8s 22ms/step - loss: 0.0080 - accuracy: 0.9982 - val_loss: 0.2346 - val_accuracy: 0.9831\n",
            "Epoch 55/500\n",
            "375/375 [==============================] - 8s 22ms/step - loss: 0.0071 - accuracy: 0.9985 - val_loss: 0.2826 - val_accuracy: 0.9819\n",
            "Epoch 56/500\n",
            "375/375 [==============================] - 8s 22ms/step - loss: 0.0084 - accuracy: 0.9983 - val_loss: 0.2234 - val_accuracy: 0.9845\n",
            "Epoch 57/500\n",
            "375/375 [==============================] - 8s 22ms/step - loss: 0.0093 - accuracy: 0.9980 - val_loss: 0.2542 - val_accuracy: 0.9829\n",
            "Epoch 58/500\n",
            "375/375 [==============================] - 8s 22ms/step - loss: 0.0083 - accuracy: 0.9983 - val_loss: 0.2671 - val_accuracy: 0.9818\n",
            "Epoch 59/500\n",
            "375/375 [==============================] - 9s 23ms/step - loss: 0.0085 - accuracy: 0.9983 - val_loss: 0.2256 - val_accuracy: 0.9837\n",
            "Epoch 60/500\n",
            "375/375 [==============================] - 9s 23ms/step - loss: 0.0063 - accuracy: 0.9984 - val_loss: 0.2497 - val_accuracy: 0.9830\n",
            "Epoch 61/500\n",
            "375/375 [==============================] - 8s 22ms/step - loss: 0.0066 - accuracy: 0.9985 - val_loss: 0.2735 - val_accuracy: 0.9827\n",
            "Epoch 62/500\n",
            "375/375 [==============================] - 8s 22ms/step - loss: 0.0090 - accuracy: 0.9984 - val_loss: 0.2682 - val_accuracy: 0.9822\n",
            "Epoch 63/500\n",
            "375/375 [==============================] - 8s 23ms/step - loss: 0.0093 - accuracy: 0.9981 - val_loss: 0.2597 - val_accuracy: 0.9821\n",
            "Epoch 64/500\n",
            "375/375 [==============================] - 8s 23ms/step - loss: 0.0067 - accuracy: 0.9986 - val_loss: 0.2637 - val_accuracy: 0.9837\n",
            "Epoch 65/500\n",
            "375/375 [==============================] - 8s 22ms/step - loss: 0.0074 - accuracy: 0.9985 - val_loss: 0.2646 - val_accuracy: 0.9827\n",
            "Epoch 66/500\n",
            "375/375 [==============================] - 8s 22ms/step - loss: 0.0084 - accuracy: 0.9982 - val_loss: 0.2412 - val_accuracy: 0.9837\n",
            "Epoch 67/500\n",
            "375/375 [==============================] - 8s 22ms/step - loss: 0.0065 - accuracy: 0.9986 - val_loss: 0.2713 - val_accuracy: 0.9821\n",
            "Epoch 68/500\n",
            "375/375 [==============================] - 8s 22ms/step - loss: 0.0078 - accuracy: 0.9984 - val_loss: 0.2509 - val_accuracy: 0.9835\n",
            "Epoch 69/500\n",
            "375/375 [==============================] - 9s 23ms/step - loss: 0.0067 - accuracy: 0.9988 - val_loss: 0.2755 - val_accuracy: 0.9828\n",
            "Epoch 70/500\n",
            "375/375 [==============================] - 8s 22ms/step - loss: 0.0087 - accuracy: 0.9983 - val_loss: 0.3041 - val_accuracy: 0.9827\n",
            "Epoch 71/500\n",
            "375/375 [==============================] - 8s 22ms/step - loss: 0.0071 - accuracy: 0.9986 - val_loss: 0.3066 - val_accuracy: 0.9830\n",
            "Epoch 72/500\n",
            "375/375 [==============================] - 8s 22ms/step - loss: 0.0085 - accuracy: 0.9981 - val_loss: 0.2671 - val_accuracy: 0.9837\n",
            "Epoch 73/500\n",
            "375/375 [==============================] - 8s 22ms/step - loss: 0.0075 - accuracy: 0.9983 - val_loss: 0.2779 - val_accuracy: 0.9830\n",
            "Epoch 74/500\n",
            "375/375 [==============================] - 8s 22ms/step - loss: 0.0080 - accuracy: 0.9984 - val_loss: 0.3067 - val_accuracy: 0.9834\n",
            "Epoch 75/500\n",
            "375/375 [==============================] - 8s 22ms/step - loss: 0.0106 - accuracy: 0.9983 - val_loss: 0.2775 - val_accuracy: 0.9848\n",
            "Epoch 76/500\n",
            "375/375 [==============================] - 8s 22ms/step - loss: 0.0076 - accuracy: 0.9988 - val_loss: 0.2603 - val_accuracy: 0.9836\n",
            "Epoch 77/500\n",
            "375/375 [==============================] - 8s 23ms/step - loss: 0.0081 - accuracy: 0.9986 - val_loss: 0.2504 - val_accuracy: 0.9845\n",
            "Epoch 78/500\n",
            "375/375 [==============================] - 8s 22ms/step - loss: 0.0084 - accuracy: 0.9987 - val_loss: 0.2746 - val_accuracy: 0.9832\n",
            "Epoch 79/500\n",
            "375/375 [==============================] - 8s 22ms/step - loss: 0.0077 - accuracy: 0.9987 - val_loss: 0.2729 - val_accuracy: 0.9843\n",
            "Epoch 80/500\n",
            "375/375 [==============================] - 8s 22ms/step - loss: 0.0069 - accuracy: 0.9985 - val_loss: 0.2945 - val_accuracy: 0.9837\n",
            "Epoch 81/500\n",
            "375/375 [==============================] - 8s 22ms/step - loss: 0.0060 - accuracy: 0.9988 - val_loss: 0.3164 - val_accuracy: 0.9833\n",
            "Epoch 82/500\n",
            "375/375 [==============================] - 8s 22ms/step - loss: 0.0074 - accuracy: 0.9986 - val_loss: 0.2983 - val_accuracy: 0.9839\n",
            "Epoch 83/500\n",
            "375/375 [==============================] - 8s 22ms/step - loss: 0.0069 - accuracy: 0.9987 - val_loss: 0.3112 - val_accuracy: 0.9846\n",
            "Epoch 84/500\n",
            "375/375 [==============================] - 8s 22ms/step - loss: 0.0076 - accuracy: 0.9985 - val_loss: 0.3081 - val_accuracy: 0.9837\n",
            "Epoch 85/500\n",
            "375/375 [==============================] - 8s 22ms/step - loss: 0.0098 - accuracy: 0.9984 - val_loss: 0.2896 - val_accuracy: 0.9836\n",
            "Epoch 86/500\n",
            "375/375 [==============================] - 8s 22ms/step - loss: 0.0065 - accuracy: 0.9987 - val_loss: 0.2866 - val_accuracy: 0.9844\n",
            "Epoch 87/500\n",
            "375/375 [==============================] - 8s 22ms/step - loss: 0.0075 - accuracy: 0.9988 - val_loss: 0.2924 - val_accuracy: 0.9837\n",
            "Epoch 88/500\n",
            "375/375 [==============================] - 8s 22ms/step - loss: 0.0097 - accuracy: 0.9987 - val_loss: 0.3053 - val_accuracy: 0.9834\n",
            "Epoch 89/500\n",
            "375/375 [==============================] - 8s 22ms/step - loss: 0.0052 - accuracy: 0.9990 - val_loss: 0.3017 - val_accuracy: 0.9845\n",
            "Epoch 90/500\n",
            "375/375 [==============================] - 8s 22ms/step - loss: 0.0066 - accuracy: 0.9987 - val_loss: 0.2791 - val_accuracy: 0.9832\n",
            "Epoch 91/500\n",
            "375/375 [==============================] - 8s 22ms/step - loss: 0.0056 - accuracy: 0.9988 - val_loss: 0.3038 - val_accuracy: 0.9843\n",
            "Epoch 92/500\n",
            "375/375 [==============================] - 8s 22ms/step - loss: 0.0075 - accuracy: 0.9986 - val_loss: 0.3285 - val_accuracy: 0.9844\n",
            "Epoch 93/500\n",
            "375/375 [==============================] - 8s 22ms/step - loss: 0.0074 - accuracy: 0.9989 - val_loss: 0.2857 - val_accuracy: 0.9846\n",
            "Epoch 94/500\n",
            "375/375 [==============================] - 8s 21ms/step - loss: 0.0074 - accuracy: 0.9987 - val_loss: 0.3080 - val_accuracy: 0.9831\n",
            "Epoch 95/500\n",
            "375/375 [==============================] - 8s 22ms/step - loss: 0.0081 - accuracy: 0.9986 - val_loss: 0.3242 - val_accuracy: 0.9837\n",
            "Epoch 96/500\n",
            "375/375 [==============================] - 8s 21ms/step - loss: 0.0081 - accuracy: 0.9986 - val_loss: 0.2988 - val_accuracy: 0.9844\n",
            "Epoch 97/500\n",
            "375/375 [==============================] - 8s 22ms/step - loss: 0.0064 - accuracy: 0.9988 - val_loss: 0.3305 - val_accuracy: 0.9836\n",
            "Epoch 98/500\n",
            "375/375 [==============================] - 8s 22ms/step - loss: 0.0080 - accuracy: 0.9988 - val_loss: 0.3058 - val_accuracy: 0.9845\n",
            "Epoch 99/500\n",
            "375/375 [==============================] - 9s 24ms/step - loss: 0.0072 - accuracy: 0.9987 - val_loss: 0.3167 - val_accuracy: 0.9840\n",
            "Epoch 100/500\n",
            "375/375 [==============================] - 8s 22ms/step - loss: 0.0092 - accuracy: 0.9986 - val_loss: 0.3103 - val_accuracy: 0.9847\n",
            "Epoch 101/500\n",
            "375/375 [==============================] - 8s 23ms/step - loss: 0.0072 - accuracy: 0.9987 - val_loss: 0.3234 - val_accuracy: 0.9834\n",
            "Epoch 102/500\n",
            "375/375 [==============================] - 8s 22ms/step - loss: 0.0050 - accuracy: 0.9989 - val_loss: 0.3401 - val_accuracy: 0.9834\n",
            "Epoch 103/500\n",
            "375/375 [==============================] - 8s 22ms/step - loss: 0.0088 - accuracy: 0.9987 - val_loss: 0.3501 - val_accuracy: 0.9829\n",
            "Epoch 104/500\n",
            "375/375 [==============================] - 8s 22ms/step - loss: 0.0068 - accuracy: 0.9989 - val_loss: 0.3324 - val_accuracy: 0.9841\n"
          ]
        }
      ]
    },
    {
      "cell_type": "code",
      "source": [
        "#đánh giá chất lượng của mô hình và vẽ lại\n",
        "score = model.evaluate(x_test,y_test,verbose=0)\n",
        "print('Sai số kiểm tra là: ',score[0])\n",
        "print('Độ chính xác kiểm tra là: ',score[1])\n",
        "#vẽ đồ thị\n",
        "plt.plot(history.history['accuracy'])\n",
        "plt.plot(history.history['val_accuracy'])\n",
        "plt.title('model accuracy')\n",
        "plt.ylabel('accuracy')\n",
        "plt.xlabel('epochs')\n",
        "plt.legend(['train','Validation'])\n",
        "plt.show()"
      ],
      "metadata": {
        "id": "p51yjJ5H5mdO",
        "outputId": "3b992da1-7ecf-494c-f5e7-df026c088445",
        "colab": {
          "base_uri": "https://localhost:8080/",
          "height": 330
        }
      },
      "execution_count": null,
      "outputs": [
        {
          "output_type": "stream",
          "name": "stdout",
          "text": [
            "Sai số kiểm tra là:  0.281755268573761\n",
            "Độ chính xác kiểm tra là:  0.9843000173568726\n"
          ]
        },
        {
          "output_type": "display_data",
          "data": {
            "text/plain": [
              "<Figure size 432x288 with 1 Axes>"
            ],
            "image/png": "[encoded data removed]"
          },
          "metadata": {
            "needs_background": "light"
          }
        }
      ]
    }
  ]
}