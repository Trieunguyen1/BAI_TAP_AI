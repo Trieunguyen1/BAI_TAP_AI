{
  "nbformat": 4,
  "nbformat_minor": 0,
  "metadata": {
    "colab": {
      "name": "BT_Fashion_Mnist.ipynb",
      "provenance": [],
      "authorship_tag": "ABX9TyO6bpICuZL7XcWboPrnyADQ",
      "include_colab_link": true
    },
    "kernelspec": {
      "name": "python3",
      "display_name": "Python 3"
    },
    "language_info": {
      "name": "python"
    }
  },
  "cells": [
    {
      "cell_type": "markdown",
      "metadata": {
        "id": "view-in-github",
        "colab_type": "text"
      },
      "source": [
        "<a href=\"https://colab.research.google.com/github/Trieunguyen1/BAI_TAP_AI/blob/main/BT_Fashion_Mnist.ipynb\" target=\"_parent\"><img src=\"https://colab.research.google.com/assets/colab-badge.svg\" alt=\"Open In Colab\"/></a>"
      ]
    },
    {
      "cell_type": "code",
      "execution_count": null,
      "metadata": {
        "id": "HDTOFYyY6S0g"
      },
      "outputs": [],
      "source": [
        "#import thư viện\n",
        "import numpy as np #thư viện xử lý ma trận\n",
        "from keras.utils import np_utils # thư viện xử lý chuyển class\n",
        "from keras.datasets import fashion_mnist # gọi tập dataset thời trang\n",
        "from keras.models import Sequential # hàm chạy mô hình\n",
        "from keras.layers import Dense, Dropout # tạo mạng nơ ron\n",
        "from tensorflow.keras.optimizers import RMSprop \n",
        "import matplotlib.pyplot as plt  # thư viện dùng để vẽ"
      ]
    },
    {
      "cell_type": "code",
      "source": [
        "# chia tập dữ liệu thành 2 bộ train và test\n",
        "(x_train, y_train),(x_test,y_test) = fashion_mnist.load_data()"
      ],
      "metadata": {
        "colab": {
          "base_uri": "https://localhost:8080/"
        },
        "id": "2g45GGr66WPz",
        "outputId": "ae43e8da-1d0c-4275-df3b-f9f8cfd236da"
      },
      "execution_count": null,
      "outputs": [
        {
          "output_type": "stream",
          "name": "stdout",
          "text": [
            "Downloading data from https://storage.googleapis.com/tensorflow/tf-keras-datasets/train-labels-idx1-ubyte.gz\n",
            "32768/29515 [=================================] - 0s 0us/step\n",
            "40960/29515 [=========================================] - 0s 0us/step\n",
            "Downloading data from https://storage.googleapis.com/tensorflow/tf-keras-datasets/train-images-idx3-ubyte.gz\n",
            "26427392/26421880 [==============================] - 0s 0us/step\n",
            "26435584/26421880 [==============================] - 0s 0us/step\n",
            "Downloading data from https://storage.googleapis.com/tensorflow/tf-keras-datasets/t10k-labels-idx1-ubyte.gz\n",
            "16384/5148 [===============================================================================================] - 0s 0us/step\n",
            "Downloading data from https://storage.googleapis.com/tensorflow/tf-keras-datasets/t10k-images-idx3-ubyte.gz\n",
            "4423680/4422102 [==============================] - 0s 0us/step\n",
            "4431872/4422102 [==============================] - 0s 0us/step\n"
          ]
        }
      ]
    },
    {
      "cell_type": "code",
      "source": [
        "# xem kích thược của tập dữ liệu\n",
        "print('Kích thước x_train: ', x_train.shape)\n",
        "print('Kích thước y_train: ', y_train.shape)\n",
        "print('Kích thước x_test: ', x_test.shape)\n",
        "print('Kích thước y_test: ', y_test.shape)"
      ],
      "metadata": {
        "colab": {
          "base_uri": "https://localhost:8080/"
        },
        "id": "eQmyHAF76Xh8",
        "outputId": "80631ef4-0604-4764-a421-77289229db0e"
      },
      "execution_count": null,
      "outputs": [
        {
          "output_type": "stream",
          "name": "stdout",
          "text": [
            "Kích thước x_train:  (60000, 28, 28)\n",
            "Kích thước y_train:  (60000,)\n",
            "Kích thước x_test:  (10000, 28, 28)\n",
            "Kích thước y_test:  (10000,)\n"
          ]
        }
      ]
    },
    {
      "cell_type": "code",
      "source": [
        "#chuyển chiều của x từ 3 chiều về 2 chiều\n",
        "x_train = x_train.reshape(60000,784)\n",
        "x_test = x_test.reshape(10000,784)\n",
        "# ép kiểu\n",
        "x_train = x_train.astype('float32')\n",
        "x_test = x_test.astype('float32')\n",
        "#chuẩn hóa dữ liệu\n",
        "x_train /=255\n",
        "x_test /=255\n",
        "#chuyển y từ 1 class thành 10 class\n",
        "y_train = np_utils.to_categorical(y_train,10)\n",
        "y_test = np_utils.to_categorical(y_test,10)"
      ],
      "metadata": {
        "id": "2YjaXbwn6ZIN"
      },
      "execution_count": null,
      "outputs": []
    },
    {
      "cell_type": "code",
      "source": [
        "#tạo mạng nơ-ron\n",
        "model = Sequential()\n",
        "model.add(Dense(512,activation='relu',input_shape=(784,)))\n",
        "model.add(Dropout(0.2))\n",
        "model.add(Dense(512,activation='relu'))\n",
        "model.add(Dropout(0.2))\n",
        "model.add(Dense(10,activation='softmax'))\n",
        "model.summary()"
      ],
      "metadata": {
        "colab": {
          "base_uri": "https://localhost:8080/"
        },
        "id": "SYMP3TU26a7b",
        "outputId": "d50365d8-7030-40d1-bafb-93c543304e78"
      },
      "execution_count": null,
      "outputs": [
        {
          "output_type": "stream",
          "name": "stdout",
          "text": [
            "Model: \"sequential\"\n",
            "_________________________________________________________________\n",
            " Layer (type)                Output Shape              Param #   \n",
            "=================================================================\n",
            " dense (Dense)               (None, 512)               401920    \n",
            "                                                                 \n",
            " dropout (Dropout)           (None, 512)               0         \n",
            "                                                                 \n",
            " dense_1 (Dense)             (None, 512)               262656    \n",
            "                                                                 \n",
            " dropout_1 (Dropout)         (None, 512)               0         \n",
            "                                                                 \n",
            " dense_2 (Dense)             (None, 10)                5130      \n",
            "                                                                 \n",
            "=================================================================\n",
            "Total params: 669,706\n",
            "Trainable params: 669,706\n",
            "Non-trainable params: 0\n",
            "_________________________________________________________________\n"
          ]
        }
      ]
    },
    {
      "cell_type": "code",
      "source": [
        "#chạy model với số lần học là 500 và độ kiên nhẫn là 100\n",
        "model.compile(loss='categorical_crossentropy',optimizer=RMSprop(), metrics=['accuracy'])\n",
        "model.compile(loss='categorical_crossentropy',optimizer=RMSprop(), metrics=['accuracy'])\n",
        "from keras.callbacks import EarlyStopping\n",
        "history = model.fit(x_train,y_train,batch_size=128,epochs=500,verbose=1,\n",
        "                    validation_split=0.2,callbacks=[EarlyStopping(monitor='val_loss',patience=100)])"
      ],
      "metadata": {
        "colab": {
          "base_uri": "https://localhost:8080/"
        },
        "id": "FjdWMVlT6c20",
        "outputId": "4647efd0-e755-49f3-bd49-39c49b8eb66c"
      },
      "execution_count": null,
      "outputs": [
        {
          "output_type": "stream",
          "name": "stdout",
          "text": [
            "Epoch 1/500\n",
            "375/375 [==============================] - 7s 16ms/step - loss: 0.5903 - accuracy: 0.7853 - val_loss: 0.4532 - val_accuracy: 0.8394\n",
            "Epoch 2/500\n",
            "375/375 [==============================] - 6s 15ms/step - loss: 0.4170 - accuracy: 0.8466 - val_loss: 0.3756 - val_accuracy: 0.8677\n",
            "Epoch 3/500\n",
            "375/375 [==============================] - 6s 15ms/step - loss: 0.3754 - accuracy: 0.8627 - val_loss: 0.3703 - val_accuracy: 0.8652\n",
            "Epoch 4/500\n",
            "375/375 [==============================] - 6s 15ms/step - loss: 0.3528 - accuracy: 0.8702 - val_loss: 0.3503 - val_accuracy: 0.8720\n",
            "Epoch 5/500\n",
            "375/375 [==============================] - 6s 15ms/step - loss: 0.3372 - accuracy: 0.8772 - val_loss: 0.3644 - val_accuracy: 0.8649\n",
            "Epoch 6/500\n",
            "375/375 [==============================] - 6s 15ms/step - loss: 0.3283 - accuracy: 0.8819 - val_loss: 0.3594 - val_accuracy: 0.8758\n",
            "Epoch 7/500\n",
            "375/375 [==============================] - 6s 16ms/step - loss: 0.3167 - accuracy: 0.8853 - val_loss: 0.3611 - val_accuracy: 0.8749\n",
            "Epoch 8/500\n",
            "375/375 [==============================] - 6s 15ms/step - loss: 0.3058 - accuracy: 0.8892 - val_loss: 0.3384 - val_accuracy: 0.8854\n",
            "Epoch 9/500\n",
            "375/375 [==============================] - 6s 17ms/step - loss: 0.3007 - accuracy: 0.8906 - val_loss: 0.3529 - val_accuracy: 0.8815\n",
            "Epoch 10/500\n",
            "375/375 [==============================] - 6s 15ms/step - loss: 0.2961 - accuracy: 0.8931 - val_loss: 0.3612 - val_accuracy: 0.8790\n",
            "Epoch 11/500\n",
            "375/375 [==============================] - 6s 15ms/step - loss: 0.2907 - accuracy: 0.8962 - val_loss: 0.3640 - val_accuracy: 0.8869\n",
            "Epoch 12/500\n",
            "375/375 [==============================] - 6s 15ms/step - loss: 0.2861 - accuracy: 0.8972 - val_loss: 0.3530 - val_accuracy: 0.8862\n",
            "Epoch 13/500\n",
            "375/375 [==============================] - 6s 15ms/step - loss: 0.2843 - accuracy: 0.8991 - val_loss: 0.3569 - val_accuracy: 0.8870\n",
            "Epoch 14/500\n",
            "375/375 [==============================] - 6s 15ms/step - loss: 0.2762 - accuracy: 0.9007 - val_loss: 0.3392 - val_accuracy: 0.8935\n",
            "Epoch 15/500\n",
            "375/375 [==============================] - 6s 15ms/step - loss: 0.2760 - accuracy: 0.9025 - val_loss: 0.3815 - val_accuracy: 0.8857\n",
            "Epoch 16/500\n",
            "375/375 [==============================] - 6s 15ms/step - loss: 0.2669 - accuracy: 0.9035 - val_loss: 0.3653 - val_accuracy: 0.8926\n",
            "Epoch 17/500\n",
            "375/375 [==============================] - 6s 15ms/step - loss: 0.2626 - accuracy: 0.9061 - val_loss: 0.3566 - val_accuracy: 0.8934\n",
            "Epoch 18/500\n",
            "375/375 [==============================] - 6s 15ms/step - loss: 0.2634 - accuracy: 0.9071 - val_loss: 0.3910 - val_accuracy: 0.8852\n",
            "Epoch 19/500\n",
            "375/375 [==============================] - 6s 15ms/step - loss: 0.2607 - accuracy: 0.9067 - val_loss: 0.4047 - val_accuracy: 0.8877\n",
            "Epoch 20/500\n",
            "375/375 [==============================] - 6s 15ms/step - loss: 0.2552 - accuracy: 0.9089 - val_loss: 0.4164 - val_accuracy: 0.8830\n",
            "Epoch 21/500\n",
            "375/375 [==============================] - 6s 15ms/step - loss: 0.2538 - accuracy: 0.9101 - val_loss: 0.4141 - val_accuracy: 0.8915\n",
            "Epoch 22/500\n",
            "375/375 [==============================] - 6s 15ms/step - loss: 0.2522 - accuracy: 0.9118 - val_loss: 0.3906 - val_accuracy: 0.8943\n",
            "Epoch 23/500\n",
            "375/375 [==============================] - 6s 15ms/step - loss: 0.2488 - accuracy: 0.9123 - val_loss: 0.4223 - val_accuracy: 0.8926\n",
            "Epoch 24/500\n",
            "375/375 [==============================] - 6s 15ms/step - loss: 0.2458 - accuracy: 0.9124 - val_loss: 0.4213 - val_accuracy: 0.8885\n",
            "Epoch 25/500\n",
            "375/375 [==============================] - 6s 15ms/step - loss: 0.2439 - accuracy: 0.9129 - val_loss: 0.4226 - val_accuracy: 0.8947\n",
            "Epoch 26/500\n",
            "375/375 [==============================] - 6s 15ms/step - loss: 0.2454 - accuracy: 0.9137 - val_loss: 0.4460 - val_accuracy: 0.8884\n",
            "Epoch 27/500\n",
            "375/375 [==============================] - 6s 15ms/step - loss: 0.2365 - accuracy: 0.9155 - val_loss: 0.4779 - val_accuracy: 0.8935\n",
            "Epoch 28/500\n",
            "375/375 [==============================] - 6s 15ms/step - loss: 0.2427 - accuracy: 0.9153 - val_loss: 0.4146 - val_accuracy: 0.8925\n",
            "Epoch 29/500\n",
            "375/375 [==============================] - 6s 15ms/step - loss: 0.2386 - accuracy: 0.9166 - val_loss: 0.4264 - val_accuracy: 0.8931\n",
            "Epoch 30/500\n",
            "375/375 [==============================] - 6s 15ms/step - loss: 0.2367 - accuracy: 0.9181 - val_loss: 0.4585 - val_accuracy: 0.8911\n",
            "Epoch 31/500\n",
            "375/375 [==============================] - 6s 15ms/step - loss: 0.2335 - accuracy: 0.9186 - val_loss: 0.4700 - val_accuracy: 0.8924\n",
            "Epoch 32/500\n",
            "375/375 [==============================] - 6s 15ms/step - loss: 0.2305 - accuracy: 0.9200 - val_loss: 0.4339 - val_accuracy: 0.8947\n",
            "Epoch 33/500\n",
            "375/375 [==============================] - 6s 15ms/step - loss: 0.2301 - accuracy: 0.9202 - val_loss: 0.4594 - val_accuracy: 0.8963\n",
            "Epoch 34/500\n",
            "375/375 [==============================] - 6s 15ms/step - loss: 0.2308 - accuracy: 0.9200 - val_loss: 0.4941 - val_accuracy: 0.8902\n",
            "Epoch 35/500\n",
            "375/375 [==============================] - 6s 15ms/step - loss: 0.2237 - accuracy: 0.9222 - val_loss: 0.4920 - val_accuracy: 0.8863\n",
            "Epoch 36/500\n",
            "375/375 [==============================] - 6s 15ms/step - loss: 0.2291 - accuracy: 0.9224 - val_loss: 0.4646 - val_accuracy: 0.8957\n",
            "Epoch 37/500\n",
            "375/375 [==============================] - 6s 15ms/step - loss: 0.2204 - accuracy: 0.9237 - val_loss: 0.4625 - val_accuracy: 0.8987\n",
            "Epoch 38/500\n",
            "375/375 [==============================] - 6s 15ms/step - loss: 0.2194 - accuracy: 0.9239 - val_loss: 0.5219 - val_accuracy: 0.8936\n",
            "Epoch 39/500\n",
            "375/375 [==============================] - 6s 15ms/step - loss: 0.2182 - accuracy: 0.9240 - val_loss: 0.5259 - val_accuracy: 0.8918\n",
            "Epoch 40/500\n",
            "375/375 [==============================] - 6s 15ms/step - loss: 0.2210 - accuracy: 0.9244 - val_loss: 0.5280 - val_accuracy: 0.8975\n",
            "Epoch 41/500\n",
            "375/375 [==============================] - 6s 15ms/step - loss: 0.2206 - accuracy: 0.9242 - val_loss: 0.4841 - val_accuracy: 0.8937\n",
            "Epoch 42/500\n",
            "375/375 [==============================] - 6s 15ms/step - loss: 0.2143 - accuracy: 0.9262 - val_loss: 0.5582 - val_accuracy: 0.8914\n",
            "Epoch 43/500\n",
            "375/375 [==============================] - 6s 15ms/step - loss: 0.2164 - accuracy: 0.9259 - val_loss: 0.4861 - val_accuracy: 0.8944\n",
            "Epoch 44/500\n",
            "375/375 [==============================] - 6s 15ms/step - loss: 0.2161 - accuracy: 0.9266 - val_loss: 0.5507 - val_accuracy: 0.8955\n",
            "Epoch 45/500\n",
            "375/375 [==============================] - 6s 15ms/step - loss: 0.2160 - accuracy: 0.9274 - val_loss: 0.5664 - val_accuracy: 0.8916\n",
            "Epoch 46/500\n",
            "375/375 [==============================] - 6s 15ms/step - loss: 0.2124 - accuracy: 0.9280 - val_loss: 0.5146 - val_accuracy: 0.8988\n",
            "Epoch 47/500\n",
            "375/375 [==============================] - 6s 15ms/step - loss: 0.2119 - accuracy: 0.9279 - val_loss: 0.5805 - val_accuracy: 0.8953\n",
            "Epoch 48/500\n",
            "375/375 [==============================] - 6s 15ms/step - loss: 0.2127 - accuracy: 0.9286 - val_loss: 0.6021 - val_accuracy: 0.8972\n",
            "Epoch 49/500\n",
            "375/375 [==============================] - 6s 15ms/step - loss: 0.2088 - accuracy: 0.9289 - val_loss: 0.5521 - val_accuracy: 0.8859\n",
            "Epoch 50/500\n",
            "375/375 [==============================] - 6s 15ms/step - loss: 0.2077 - accuracy: 0.9302 - val_loss: 0.5765 - val_accuracy: 0.8962\n",
            "Epoch 51/500\n",
            "375/375 [==============================] - 6s 15ms/step - loss: 0.2046 - accuracy: 0.9316 - val_loss: 0.6027 - val_accuracy: 0.8981\n",
            "Epoch 52/500\n",
            "375/375 [==============================] - 6s 15ms/step - loss: 0.2128 - accuracy: 0.9311 - val_loss: 0.5919 - val_accuracy: 0.8935\n",
            "Epoch 53/500\n",
            "375/375 [==============================] - 6s 15ms/step - loss: 0.2017 - accuracy: 0.9310 - val_loss: 0.6000 - val_accuracy: 0.8966\n",
            "Epoch 54/500\n",
            "375/375 [==============================] - 6s 15ms/step - loss: 0.2015 - accuracy: 0.9329 - val_loss: 0.6368 - val_accuracy: 0.8924\n",
            "Epoch 55/500\n",
            "375/375 [==============================] - 6s 15ms/step - loss: 0.2057 - accuracy: 0.9319 - val_loss: 0.6071 - val_accuracy: 0.8963\n",
            "Epoch 56/500\n",
            "375/375 [==============================] - 6s 15ms/step - loss: 0.2005 - accuracy: 0.9327 - val_loss: 0.6497 - val_accuracy: 0.8978\n",
            "Epoch 57/500\n",
            "375/375 [==============================] - 6s 15ms/step - loss: 0.2058 - accuracy: 0.9338 - val_loss: 0.7061 - val_accuracy: 0.8965\n",
            "Epoch 58/500\n",
            "375/375 [==============================] - 6s 15ms/step - loss: 0.2027 - accuracy: 0.9330 - val_loss: 0.6420 - val_accuracy: 0.8917\n",
            "Epoch 59/500\n",
            "375/375 [==============================] - 6s 15ms/step - loss: 0.1936 - accuracy: 0.9363 - val_loss: 0.6013 - val_accuracy: 0.8917\n",
            "Epoch 60/500\n",
            "375/375 [==============================] - 6s 15ms/step - loss: 0.1973 - accuracy: 0.9344 - val_loss: 0.6648 - val_accuracy: 0.8898\n",
            "Epoch 61/500\n",
            "375/375 [==============================] - 6s 15ms/step - loss: 0.2005 - accuracy: 0.9342 - val_loss: 0.6493 - val_accuracy: 0.8926\n",
            "Epoch 62/500\n",
            "375/375 [==============================] - 6s 15ms/step - loss: 0.1932 - accuracy: 0.9361 - val_loss: 0.6559 - val_accuracy: 0.8942\n",
            "Epoch 63/500\n",
            "375/375 [==============================] - 6s 15ms/step - loss: 0.1928 - accuracy: 0.9344 - val_loss: 0.7531 - val_accuracy: 0.8911\n",
            "Epoch 64/500\n",
            "375/375 [==============================] - 6s 15ms/step - loss: 0.1962 - accuracy: 0.9347 - val_loss: 0.6900 - val_accuracy: 0.8989\n",
            "Epoch 65/500\n",
            "375/375 [==============================] - 6s 15ms/step - loss: 0.1922 - accuracy: 0.9360 - val_loss: 0.7560 - val_accuracy: 0.8898\n",
            "Epoch 66/500\n",
            "375/375 [==============================] - 6s 15ms/step - loss: 0.1894 - accuracy: 0.9362 - val_loss: 0.8396 - val_accuracy: 0.8889\n",
            "Epoch 67/500\n",
            "375/375 [==============================] - 6s 15ms/step - loss: 0.1904 - accuracy: 0.9359 - val_loss: 0.6991 - val_accuracy: 0.8930\n",
            "Epoch 68/500\n",
            "375/375 [==============================] - 6s 15ms/step - loss: 0.1912 - accuracy: 0.9374 - val_loss: 0.7152 - val_accuracy: 0.8952\n",
            "Epoch 69/500\n",
            "375/375 [==============================] - 6s 15ms/step - loss: 0.1909 - accuracy: 0.9374 - val_loss: 0.7999 - val_accuracy: 0.8939\n",
            "Epoch 70/500\n",
            "375/375 [==============================] - 6s 15ms/step - loss: 0.1894 - accuracy: 0.9379 - val_loss: 0.7182 - val_accuracy: 0.8999\n",
            "Epoch 71/500\n",
            "375/375 [==============================] - 6s 15ms/step - loss: 0.1905 - accuracy: 0.9376 - val_loss: 0.7291 - val_accuracy: 0.8957\n",
            "Epoch 72/500\n",
            "375/375 [==============================] - 6s 15ms/step - loss: 0.1871 - accuracy: 0.9385 - val_loss: 0.8421 - val_accuracy: 0.8905\n",
            "Epoch 73/500\n",
            "375/375 [==============================] - 6s 15ms/step - loss: 0.1880 - accuracy: 0.9380 - val_loss: 0.7690 - val_accuracy: 0.8984\n",
            "Epoch 74/500\n",
            "375/375 [==============================] - 6s 15ms/step - loss: 0.1873 - accuracy: 0.9389 - val_loss: 0.8080 - val_accuracy: 0.8897\n",
            "Epoch 75/500\n",
            "375/375 [==============================] - 6s 15ms/step - loss: 0.1862 - accuracy: 0.9392 - val_loss: 0.7335 - val_accuracy: 0.8981\n",
            "Epoch 76/500\n",
            "375/375 [==============================] - 6s 15ms/step - loss: 0.1858 - accuracy: 0.9399 - val_loss: 0.7490 - val_accuracy: 0.8997\n",
            "Epoch 77/500\n",
            "375/375 [==============================] - 6s 15ms/step - loss: 0.1895 - accuracy: 0.9394 - val_loss: 0.7866 - val_accuracy: 0.8931\n",
            "Epoch 78/500\n",
            "375/375 [==============================] - 6s 15ms/step - loss: 0.1795 - accuracy: 0.9410 - val_loss: 0.8024 - val_accuracy: 0.8892\n",
            "Epoch 79/500\n",
            "375/375 [==============================] - 6s 15ms/step - loss: 0.1771 - accuracy: 0.9391 - val_loss: 0.8014 - val_accuracy: 0.9012\n",
            "Epoch 80/500\n",
            "375/375 [==============================] - 6s 15ms/step - loss: 0.1845 - accuracy: 0.9410 - val_loss: 0.7478 - val_accuracy: 0.9007\n",
            "Epoch 81/500\n",
            "375/375 [==============================] - 6s 15ms/step - loss: 0.1810 - accuracy: 0.9414 - val_loss: 0.8269 - val_accuracy: 0.8975\n",
            "Epoch 82/500\n",
            "375/375 [==============================] - 6s 15ms/step - loss: 0.1803 - accuracy: 0.9415 - val_loss: 0.8222 - val_accuracy: 0.8978\n",
            "Epoch 83/500\n",
            "375/375 [==============================] - 6s 15ms/step - loss: 0.1801 - accuracy: 0.9420 - val_loss: 0.9438 - val_accuracy: 0.8961\n",
            "Epoch 84/500\n",
            "375/375 [==============================] - 6s 15ms/step - loss: 0.1898 - accuracy: 0.9412 - val_loss: 0.8492 - val_accuracy: 0.8915\n",
            "Epoch 85/500\n",
            "375/375 [==============================] - 6s 15ms/step - loss: 0.1793 - accuracy: 0.9423 - val_loss: 0.9341 - val_accuracy: 0.8805\n",
            "Epoch 86/500\n",
            "375/375 [==============================] - 6s 15ms/step - loss: 0.1770 - accuracy: 0.9418 - val_loss: 0.9358 - val_accuracy: 0.8952\n",
            "Epoch 87/500\n",
            "375/375 [==============================] - 6s 15ms/step - loss: 0.1877 - accuracy: 0.9427 - val_loss: 0.9703 - val_accuracy: 0.8863\n",
            "Epoch 88/500\n",
            "375/375 [==============================] - 6s 15ms/step - loss: 0.1758 - accuracy: 0.9427 - val_loss: 0.8977 - val_accuracy: 0.8987\n",
            "Epoch 89/500\n",
            "375/375 [==============================] - 6s 15ms/step - loss: 0.1811 - accuracy: 0.9434 - val_loss: 0.7994 - val_accuracy: 0.8957\n",
            "Epoch 90/500\n",
            "375/375 [==============================] - 6s 15ms/step - loss: 0.1775 - accuracy: 0.9433 - val_loss: 0.8438 - val_accuracy: 0.8956\n",
            "Epoch 91/500\n",
            "375/375 [==============================] - 6s 15ms/step - loss: 0.1799 - accuracy: 0.9436 - val_loss: 0.9272 - val_accuracy: 0.8950\n",
            "Epoch 92/500\n",
            "375/375 [==============================] - 6s 15ms/step - loss: 0.1697 - accuracy: 0.9427 - val_loss: 0.8816 - val_accuracy: 0.8962\n",
            "Epoch 93/500\n",
            "375/375 [==============================] - 6s 15ms/step - loss: 0.1746 - accuracy: 0.9434 - val_loss: 0.8976 - val_accuracy: 0.8964\n",
            "Epoch 94/500\n",
            "375/375 [==============================] - 6s 15ms/step - loss: 0.1784 - accuracy: 0.9455 - val_loss: 0.9535 - val_accuracy: 0.8968\n",
            "Epoch 95/500\n",
            "375/375 [==============================] - 6s 15ms/step - loss: 0.1725 - accuracy: 0.9444 - val_loss: 0.9371 - val_accuracy: 0.8968\n",
            "Epoch 96/500\n",
            "375/375 [==============================] - 6s 15ms/step - loss: 0.1840 - accuracy: 0.9433 - val_loss: 0.8665 - val_accuracy: 0.8963\n",
            "Epoch 97/500\n",
            "375/375 [==============================] - 6s 15ms/step - loss: 0.1619 - accuracy: 0.9464 - val_loss: 0.9851 - val_accuracy: 0.8942\n",
            "Epoch 98/500\n",
            "375/375 [==============================] - 6s 15ms/step - loss: 0.1737 - accuracy: 0.9456 - val_loss: 0.9291 - val_accuracy: 0.8959\n",
            "Epoch 99/500\n",
            "375/375 [==============================] - 6s 15ms/step - loss: 0.1713 - accuracy: 0.9456 - val_loss: 0.9766 - val_accuracy: 0.8905\n",
            "Epoch 100/500\n",
            "375/375 [==============================] - 6s 15ms/step - loss: 0.1677 - accuracy: 0.9460 - val_loss: 0.9206 - val_accuracy: 0.8990\n",
            "Epoch 101/500\n",
            "375/375 [==============================] - 6s 15ms/step - loss: 0.1731 - accuracy: 0.9467 - val_loss: 0.9496 - val_accuracy: 0.8938\n",
            "Epoch 102/500\n",
            "375/375 [==============================] - 6s 15ms/step - loss: 0.1729 - accuracy: 0.9460 - val_loss: 0.9740 - val_accuracy: 0.8900\n",
            "Epoch 103/500\n",
            "375/375 [==============================] - 6s 15ms/step - loss: 0.1700 - accuracy: 0.9471 - val_loss: 1.0185 - val_accuracy: 0.8967\n",
            "Epoch 104/500\n",
            "375/375 [==============================] - 6s 15ms/step - loss: 0.1668 - accuracy: 0.9484 - val_loss: 0.9758 - val_accuracy: 0.8929\n",
            "Epoch 105/500\n",
            "375/375 [==============================] - 6s 15ms/step - loss: 0.1767 - accuracy: 0.9464 - val_loss: 1.2308 - val_accuracy: 0.8890\n",
            "Epoch 106/500\n",
            "375/375 [==============================] - 6s 15ms/step - loss: 0.1670 - accuracy: 0.9469 - val_loss: 1.0239 - val_accuracy: 0.8988\n",
            "Epoch 107/500\n",
            "375/375 [==============================] - 6s 15ms/step - loss: 0.1712 - accuracy: 0.9463 - val_loss: 1.0833 - val_accuracy: 0.8888\n",
            "Epoch 108/500\n",
            "375/375 [==============================] - 6s 16ms/step - loss: 0.1695 - accuracy: 0.9476 - val_loss: 1.0752 - val_accuracy: 0.8921\n"
          ]
        }
      ]
    },
    {
      "cell_type": "code",
      "source": [
        "#đánh giá chất lượng của mô hình và vẽ lại\n",
        "score = model.evaluate(x_test,y_test,verbose=0)\n",
        "print('Sai số kiểm tra là: ',score[0])\n",
        "print('Độ chính xác kiểm tra là: ',score[1])\n",
        "#vẽ đồ thị\n",
        "plt.plot(history.history['accuracy'])\n",
        "plt.plot(history.history['val_accuracy'])\n",
        "plt.title('model accuracy')\n",
        "plt.ylabel('accuracy')\n",
        "plt.xlabel('epochs')\n",
        "plt.legend(['train','Validation'])\n",
        "plt.show()"
      ],
      "metadata": {
        "colab": {
          "base_uri": "https://localhost:8080/",
          "height": 330
        },
        "id": "TS_ODVYECW-c",
        "outputId": "c12c7033-bc82-4a9b-b005-8fc34fe12988"
      },
      "execution_count": null,
      "outputs": [
        {
          "output_type": "stream",
          "name": "stdout",
          "text": [
            "Sai số kiểm tra là:  1.1359469890594482\n",
            "Độ chính xác kiểm tra là:  0.8877999782562256\n"
          ]
        },
        {
          "output_type": "display_data",
          "data": {
            "text/plain": [
              "<Figure size 432x288 with 1 Axes>"
            ],
            "image/png": "[encoded data removed]"
          },
          "metadata": {
            "needs_background": "light"
          }
        }
      ]
    }
  ]
}